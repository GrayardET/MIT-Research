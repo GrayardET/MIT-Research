{
  "nbformat": 4,
  "nbformat_minor": 0,
  "metadata": {
    "accelerator": "GPU",
    "colab": {
      "name": "RNN-MIT.ipynb",
      "provenance": [],
      "collapsed_sections": [],
      "include_colab_link": true
    },
    "kernelspec": {
      "display_name": "Python 3",
      "name": "python3"
    },
    "language_info": {
      "name": "python"
    },
    "widgets": {
      "application/vnd.jupyter.widget-state+json": {
        "e1a22c07cffe4e7490e7959375243480": {
          "model_module": "@jupyter-widgets/controls",
          "model_name": "HBoxModel",
          "state": {
            "_dom_classes": [],
            "_model_module": "@jupyter-widgets/controls",
            "_model_module_version": "1.5.0",
            "_model_name": "HBoxModel",
            "_view_count": null,
            "_view_module": "@jupyter-widgets/controls",
            "_view_module_version": "1.5.0",
            "_view_name": "HBoxView",
            "box_style": "",
            "children": [
              "IPY_MODEL_dad24c77fd444364b0ee3f5de1a06dac",
              "IPY_MODEL_d6adaf0b6ffc4e52b1ba4da5e8cd4869"
            ],
            "layout": "IPY_MODEL_3c34d2fed9f64e7b9b9186cc8cb8fe2e"
          }
        },
        "dad24c77fd444364b0ee3f5de1a06dac": {
          "model_module": "@jupyter-widgets/controls",
          "model_name": "FloatProgressModel",
          "state": {
            "_dom_classes": [],
            "_model_module": "@jupyter-widgets/controls",
            "_model_module_version": "1.5.0",
            "_model_name": "FloatProgressModel",
            "_view_count": null,
            "_view_module": "@jupyter-widgets/controls",
            "_view_module_version": "1.5.0",
            "_view_name": "ProgressView",
            "bar_style": "success",
            "description": "",
            "description_tooltip": null,
            "layout": "IPY_MODEL_452f2bce07b640ebb579833dbca2cab2",
            "max": 26421880,
            "min": 0,
            "orientation": "horizontal",
            "style": "IPY_MODEL_4683e8c4b96e42c793a2cae8180af6d3",
            "value": 26421880
          }
        },
        "d6adaf0b6ffc4e52b1ba4da5e8cd4869": {
          "model_module": "@jupyter-widgets/controls",
          "model_name": "HTMLModel",
          "state": {
            "_dom_classes": [],
            "_model_module": "@jupyter-widgets/controls",
            "_model_module_version": "1.5.0",
            "_model_name": "HTMLModel",
            "_view_count": null,
            "_view_module": "@jupyter-widgets/controls",
            "_view_module_version": "1.5.0",
            "_view_name": "HTMLView",
            "description": "",
            "description_tooltip": null,
            "layout": "IPY_MODEL_2168251212b04b3796ed8fc6a58beb7a",
            "placeholder": "​",
            "style": "IPY_MODEL_05c4c09f95434fd091e60aef7c2114d6",
            "value": " 26422272/? [00:06&lt;00:00, 4376185.45it/s]"
          }
        },
        "3c34d2fed9f64e7b9b9186cc8cb8fe2e": {
          "model_module": "@jupyter-widgets/base",
          "model_name": "LayoutModel",
          "state": {
            "_model_module": "@jupyter-widgets/base",
            "_model_module_version": "1.2.0",
            "_model_name": "LayoutModel",
            "_view_count": null,
            "_view_module": "@jupyter-widgets/base",
            "_view_module_version": "1.2.0",
            "_view_name": "LayoutView",
            "align_content": null,
            "align_items": null,
            "align_self": null,
            "border": null,
            "bottom": null,
            "display": null,
            "flex": null,
            "flex_flow": null,
            "grid_area": null,
            "grid_auto_columns": null,
            "grid_auto_flow": null,
            "grid_auto_rows": null,
            "grid_column": null,
            "grid_gap": null,
            "grid_row": null,
            "grid_template_areas": null,
            "grid_template_columns": null,
            "grid_template_rows": null,
            "height": null,
            "justify_content": null,
            "justify_items": null,
            "left": null,
            "margin": null,
            "max_height": null,
            "max_width": null,
            "min_height": null,
            "min_width": null,
            "object_fit": null,
            "object_position": null,
            "order": null,
            "overflow": null,
            "overflow_x": null,
            "overflow_y": null,
            "padding": null,
            "right": null,
            "top": null,
            "visibility": null,
            "width": null
          }
        },
        "452f2bce07b640ebb579833dbca2cab2": {
          "model_module": "@jupyter-widgets/base",
          "model_name": "LayoutModel",
          "state": {
            "_model_module": "@jupyter-widgets/base",
            "_model_module_version": "1.2.0",
            "_model_name": "LayoutModel",
            "_view_count": null,
            "_view_module": "@jupyter-widgets/base",
            "_view_module_version": "1.2.0",
            "_view_name": "LayoutView",
            "align_content": null,
            "align_items": null,
            "align_self": null,
            "border": null,
            "bottom": null,
            "display": null,
            "flex": null,
            "flex_flow": null,
            "grid_area": null,
            "grid_auto_columns": null,
            "grid_auto_flow": null,
            "grid_auto_rows": null,
            "grid_column": null,
            "grid_gap": null,
            "grid_row": null,
            "grid_template_areas": null,
            "grid_template_columns": null,
            "grid_template_rows": null,
            "height": null,
            "justify_content": null,
            "justify_items": null,
            "left": null,
            "margin": null,
            "max_height": null,
            "max_width": null,
            "min_height": null,
            "min_width": null,
            "object_fit": null,
            "object_position": null,
            "order": null,
            "overflow": null,
            "overflow_x": null,
            "overflow_y": null,
            "padding": null,
            "right": null,
            "top": null,
            "visibility": null,
            "width": null
          }
        },
        "4683e8c4b96e42c793a2cae8180af6d3": {
          "model_module": "@jupyter-widgets/controls",
          "model_name": "ProgressStyleModel",
          "state": {
            "_model_module": "@jupyter-widgets/controls",
            "_model_module_version": "1.5.0",
            "_model_name": "ProgressStyleModel",
            "_view_count": null,
            "_view_module": "@jupyter-widgets/base",
            "_view_module_version": "1.2.0",
            "_view_name": "StyleView",
            "bar_color": null,
            "description_width": "initial"
          }
        },
        "2168251212b04b3796ed8fc6a58beb7a": {
          "model_module": "@jupyter-widgets/base",
          "model_name": "LayoutModel",
          "state": {
            "_model_module": "@jupyter-widgets/base",
            "_model_module_version": "1.2.0",
            "_model_name": "LayoutModel",
            "_view_count": null,
            "_view_module": "@jupyter-widgets/base",
            "_view_module_version": "1.2.0",
            "_view_name": "LayoutView",
            "align_content": null,
            "align_items": null,
            "align_self": null,
            "border": null,
            "bottom": null,
            "display": null,
            "flex": null,
            "flex_flow": null,
            "grid_area": null,
            "grid_auto_columns": null,
            "grid_auto_flow": null,
            "grid_auto_rows": null,
            "grid_column": null,
            "grid_gap": null,
            "grid_row": null,
            "grid_template_areas": null,
            "grid_template_columns": null,
            "grid_template_rows": null,
            "height": null,
            "justify_content": null,
            "justify_items": null,
            "left": null,
            "margin": null,
            "max_height": null,
            "max_width": null,
            "min_height": null,
            "min_width": null,
            "object_fit": null,
            "object_position": null,
            "order": null,
            "overflow": null,
            "overflow_x": null,
            "overflow_y": null,
            "padding": null,
            "right": null,
            "top": null,
            "visibility": null,
            "width": null
          }
        },
        "05c4c09f95434fd091e60aef7c2114d6": {
          "model_module": "@jupyter-widgets/controls",
          "model_name": "DescriptionStyleModel",
          "state": {
            "_model_module": "@jupyter-widgets/controls",
            "_model_module_version": "1.5.0",
            "_model_name": "DescriptionStyleModel",
            "_view_count": null,
            "_view_module": "@jupyter-widgets/base",
            "_view_module_version": "1.2.0",
            "_view_name": "StyleView",
            "description_width": ""
          }
        },
        "caa503e979f542a6ad25e36f4ccf0afa": {
          "model_module": "@jupyter-widgets/controls",
          "model_name": "HBoxModel",
          "state": {
            "_dom_classes": [],
            "_model_module": "@jupyter-widgets/controls",
            "_model_module_version": "1.5.0",
            "_model_name": "HBoxModel",
            "_view_count": null,
            "_view_module": "@jupyter-widgets/controls",
            "_view_module_version": "1.5.0",
            "_view_name": "HBoxView",
            "box_style": "",
            "children": [
              "IPY_MODEL_05bea7d5b9a8471a9652f65e8dd06f2e",
              "IPY_MODEL_9315bbff27474cd5b5a6ea85517ebdc3"
            ],
            "layout": "IPY_MODEL_5f51121340aa4297adeb3a9e0f74b88d"
          }
        },
        "05bea7d5b9a8471a9652f65e8dd06f2e": {
          "model_module": "@jupyter-widgets/controls",
          "model_name": "FloatProgressModel",
          "state": {
            "_dom_classes": [],
            "_model_module": "@jupyter-widgets/controls",
            "_model_module_version": "1.5.0",
            "_model_name": "FloatProgressModel",
            "_view_count": null,
            "_view_module": "@jupyter-widgets/controls",
            "_view_module_version": "1.5.0",
            "_view_name": "ProgressView",
            "bar_style": "success",
            "description": "",
            "description_tooltip": null,
            "layout": "IPY_MODEL_483fd4934709427e9bac627b8e6b2177",
            "max": 29515,
            "min": 0,
            "orientation": "horizontal",
            "style": "IPY_MODEL_a8e1a595ac454f06842e32484ea7cd02",
            "value": 29515
          }
        },
        "9315bbff27474cd5b5a6ea85517ebdc3": {
          "model_module": "@jupyter-widgets/controls",
          "model_name": "HTMLModel",
          "state": {
            "_dom_classes": [],
            "_model_module": "@jupyter-widgets/controls",
            "_model_module_version": "1.5.0",
            "_model_name": "HTMLModel",
            "_view_count": null,
            "_view_module": "@jupyter-widgets/controls",
            "_view_module_version": "1.5.0",
            "_view_name": "HTMLView",
            "description": "",
            "description_tooltip": null,
            "layout": "IPY_MODEL_aaf07397a006411fbcb80d35029a3140",
            "placeholder": "​",
            "style": "IPY_MODEL_f6019f7edd70443b8779bcd8eb1dc24d",
            "value": " 29696/? [00:11&lt;00:00, 2618.55it/s]"
          }
        },
        "5f51121340aa4297adeb3a9e0f74b88d": {
          "model_module": "@jupyter-widgets/base",
          "model_name": "LayoutModel",
          "state": {
            "_model_module": "@jupyter-widgets/base",
            "_model_module_version": "1.2.0",
            "_model_name": "LayoutModel",
            "_view_count": null,
            "_view_module": "@jupyter-widgets/base",
            "_view_module_version": "1.2.0",
            "_view_name": "LayoutView",
            "align_content": null,
            "align_items": null,
            "align_self": null,
            "border": null,
            "bottom": null,
            "display": null,
            "flex": null,
            "flex_flow": null,
            "grid_area": null,
            "grid_auto_columns": null,
            "grid_auto_flow": null,
            "grid_auto_rows": null,
            "grid_column": null,
            "grid_gap": null,
            "grid_row": null,
            "grid_template_areas": null,
            "grid_template_columns": null,
            "grid_template_rows": null,
            "height": null,
            "justify_content": null,
            "justify_items": null,
            "left": null,
            "margin": null,
            "max_height": null,
            "max_width": null,
            "min_height": null,
            "min_width": null,
            "object_fit": null,
            "object_position": null,
            "order": null,
            "overflow": null,
            "overflow_x": null,
            "overflow_y": null,
            "padding": null,
            "right": null,
            "top": null,
            "visibility": null,
            "width": null
          }
        },
        "483fd4934709427e9bac627b8e6b2177": {
          "model_module": "@jupyter-widgets/base",
          "model_name": "LayoutModel",
          "state": {
            "_model_module": "@jupyter-widgets/base",
            "_model_module_version": "1.2.0",
            "_model_name": "LayoutModel",
            "_view_count": null,
            "_view_module": "@jupyter-widgets/base",
            "_view_module_version": "1.2.0",
            "_view_name": "LayoutView",
            "align_content": null,
            "align_items": null,
            "align_self": null,
            "border": null,
            "bottom": null,
            "display": null,
            "flex": null,
            "flex_flow": null,
            "grid_area": null,
            "grid_auto_columns": null,
            "grid_auto_flow": null,
            "grid_auto_rows": null,
            "grid_column": null,
            "grid_gap": null,
            "grid_row": null,
            "grid_template_areas": null,
            "grid_template_columns": null,
            "grid_template_rows": null,
            "height": null,
            "justify_content": null,
            "justify_items": null,
            "left": null,
            "margin": null,
            "max_height": null,
            "max_width": null,
            "min_height": null,
            "min_width": null,
            "object_fit": null,
            "object_position": null,
            "order": null,
            "overflow": null,
            "overflow_x": null,
            "overflow_y": null,
            "padding": null,
            "right": null,
            "top": null,
            "visibility": null,
            "width": null
          }
        },
        "a8e1a595ac454f06842e32484ea7cd02": {
          "model_module": "@jupyter-widgets/controls",
          "model_name": "ProgressStyleModel",
          "state": {
            "_model_module": "@jupyter-widgets/controls",
            "_model_module_version": "1.5.0",
            "_model_name": "ProgressStyleModel",
            "_view_count": null,
            "_view_module": "@jupyter-widgets/base",
            "_view_module_version": "1.2.0",
            "_view_name": "StyleView",
            "bar_color": null,
            "description_width": "initial"
          }
        },
        "aaf07397a006411fbcb80d35029a3140": {
          "model_module": "@jupyter-widgets/base",
          "model_name": "LayoutModel",
          "state": {
            "_model_module": "@jupyter-widgets/base",
            "_model_module_version": "1.2.0",
            "_model_name": "LayoutModel",
            "_view_count": null,
            "_view_module": "@jupyter-widgets/base",
            "_view_module_version": "1.2.0",
            "_view_name": "LayoutView",
            "align_content": null,
            "align_items": null,
            "align_self": null,
            "border": null,
            "bottom": null,
            "display": null,
            "flex": null,
            "flex_flow": null,
            "grid_area": null,
            "grid_auto_columns": null,
            "grid_auto_flow": null,
            "grid_auto_rows": null,
            "grid_column": null,
            "grid_gap": null,
            "grid_row": null,
            "grid_template_areas": null,
            "grid_template_columns": null,
            "grid_template_rows": null,
            "height": null,
            "justify_content": null,
            "justify_items": null,
            "left": null,
            "margin": null,
            "max_height": null,
            "max_width": null,
            "min_height": null,
            "min_width": null,
            "object_fit": null,
            "object_position": null,
            "order": null,
            "overflow": null,
            "overflow_x": null,
            "overflow_y": null,
            "padding": null,
            "right": null,
            "top": null,
            "visibility": null,
            "width": null
          }
        },
        "f6019f7edd70443b8779bcd8eb1dc24d": {
          "model_module": "@jupyter-widgets/controls",
          "model_name": "DescriptionStyleModel",
          "state": {
            "_model_module": "@jupyter-widgets/controls",
            "_model_module_version": "1.5.0",
            "_model_name": "DescriptionStyleModel",
            "_view_count": null,
            "_view_module": "@jupyter-widgets/base",
            "_view_module_version": "1.2.0",
            "_view_name": "StyleView",
            "description_width": ""
          }
        },
        "6a04c7a28c104724b4be264478a30e0a": {
          "model_module": "@jupyter-widgets/controls",
          "model_name": "HBoxModel",
          "state": {
            "_dom_classes": [],
            "_model_module": "@jupyter-widgets/controls",
            "_model_module_version": "1.5.0",
            "_model_name": "HBoxModel",
            "_view_count": null,
            "_view_module": "@jupyter-widgets/controls",
            "_view_module_version": "1.5.0",
            "_view_name": "HBoxView",
            "box_style": "",
            "children": [
              "IPY_MODEL_784a8b30a8ae4eb5a4a3c842d3417e8c",
              "IPY_MODEL_6f5bd1c086c4492883e79429b7635c6c"
            ],
            "layout": "IPY_MODEL_3aaf52b861794d5c92922cf1dd7986d3"
          }
        },
        "784a8b30a8ae4eb5a4a3c842d3417e8c": {
          "model_module": "@jupyter-widgets/controls",
          "model_name": "FloatProgressModel",
          "state": {
            "_dom_classes": [],
            "_model_module": "@jupyter-widgets/controls",
            "_model_module_version": "1.5.0",
            "_model_name": "FloatProgressModel",
            "_view_count": null,
            "_view_module": "@jupyter-widgets/controls",
            "_view_module_version": "1.5.0",
            "_view_name": "ProgressView",
            "bar_style": "success",
            "description": "",
            "description_tooltip": null,
            "layout": "IPY_MODEL_60d5aba8a53e47b2a27cc29b7df1903b",
            "max": 4422102,
            "min": 0,
            "orientation": "horizontal",
            "style": "IPY_MODEL_85f57833487d4e4abef319fcda48fc3f",
            "value": 4422102
          }
        },
        "6f5bd1c086c4492883e79429b7635c6c": {
          "model_module": "@jupyter-widgets/controls",
          "model_name": "HTMLModel",
          "state": {
            "_dom_classes": [],
            "_model_module": "@jupyter-widgets/controls",
            "_model_module_version": "1.5.0",
            "_model_name": "HTMLModel",
            "_view_count": null,
            "_view_module": "@jupyter-widgets/controls",
            "_view_module_version": "1.5.0",
            "_view_name": "HTMLView",
            "description": "",
            "description_tooltip": null,
            "layout": "IPY_MODEL_353ef916886449b1b4a077341f35699c",
            "placeholder": "​",
            "style": "IPY_MODEL_ed96d5e2cf65406184efd5cadd9788dc",
            "value": " 4422656/? [00:03&lt;00:00, 1281863.70it/s]"
          }
        },
        "3aaf52b861794d5c92922cf1dd7986d3": {
          "model_module": "@jupyter-widgets/base",
          "model_name": "LayoutModel",
          "state": {
            "_model_module": "@jupyter-widgets/base",
            "_model_module_version": "1.2.0",
            "_model_name": "LayoutModel",
            "_view_count": null,
            "_view_module": "@jupyter-widgets/base",
            "_view_module_version": "1.2.0",
            "_view_name": "LayoutView",
            "align_content": null,
            "align_items": null,
            "align_self": null,
            "border": null,
            "bottom": null,
            "display": null,
            "flex": null,
            "flex_flow": null,
            "grid_area": null,
            "grid_auto_columns": null,
            "grid_auto_flow": null,
            "grid_auto_rows": null,
            "grid_column": null,
            "grid_gap": null,
            "grid_row": null,
            "grid_template_areas": null,
            "grid_template_columns": null,
            "grid_template_rows": null,
            "height": null,
            "justify_content": null,
            "justify_items": null,
            "left": null,
            "margin": null,
            "max_height": null,
            "max_width": null,
            "min_height": null,
            "min_width": null,
            "object_fit": null,
            "object_position": null,
            "order": null,
            "overflow": null,
            "overflow_x": null,
            "overflow_y": null,
            "padding": null,
            "right": null,
            "top": null,
            "visibility": null,
            "width": null
          }
        },
        "60d5aba8a53e47b2a27cc29b7df1903b": {
          "model_module": "@jupyter-widgets/base",
          "model_name": "LayoutModel",
          "state": {
            "_model_module": "@jupyter-widgets/base",
            "_model_module_version": "1.2.0",
            "_model_name": "LayoutModel",
            "_view_count": null,
            "_view_module": "@jupyter-widgets/base",
            "_view_module_version": "1.2.0",
            "_view_name": "LayoutView",
            "align_content": null,
            "align_items": null,
            "align_self": null,
            "border": null,
            "bottom": null,
            "display": null,
            "flex": null,
            "flex_flow": null,
            "grid_area": null,
            "grid_auto_columns": null,
            "grid_auto_flow": null,
            "grid_auto_rows": null,
            "grid_column": null,
            "grid_gap": null,
            "grid_row": null,
            "grid_template_areas": null,
            "grid_template_columns": null,
            "grid_template_rows": null,
            "height": null,
            "justify_content": null,
            "justify_items": null,
            "left": null,
            "margin": null,
            "max_height": null,
            "max_width": null,
            "min_height": null,
            "min_width": null,
            "object_fit": null,
            "object_position": null,
            "order": null,
            "overflow": null,
            "overflow_x": null,
            "overflow_y": null,
            "padding": null,
            "right": null,
            "top": null,
            "visibility": null,
            "width": null
          }
        },
        "85f57833487d4e4abef319fcda48fc3f": {
          "model_module": "@jupyter-widgets/controls",
          "model_name": "ProgressStyleModel",
          "state": {
            "_model_module": "@jupyter-widgets/controls",
            "_model_module_version": "1.5.0",
            "_model_name": "ProgressStyleModel",
            "_view_count": null,
            "_view_module": "@jupyter-widgets/base",
            "_view_module_version": "1.2.0",
            "_view_name": "StyleView",
            "bar_color": null,
            "description_width": "initial"
          }
        },
        "353ef916886449b1b4a077341f35699c": {
          "model_module": "@jupyter-widgets/base",
          "model_name": "LayoutModel",
          "state": {
            "_model_module": "@jupyter-widgets/base",
            "_model_module_version": "1.2.0",
            "_model_name": "LayoutModel",
            "_view_count": null,
            "_view_module": "@jupyter-widgets/base",
            "_view_module_version": "1.2.0",
            "_view_name": "LayoutView",
            "align_content": null,
            "align_items": null,
            "align_self": null,
            "border": null,
            "bottom": null,
            "display": null,
            "flex": null,
            "flex_flow": null,
            "grid_area": null,
            "grid_auto_columns": null,
            "grid_auto_flow": null,
            "grid_auto_rows": null,
            "grid_column": null,
            "grid_gap": null,
            "grid_row": null,
            "grid_template_areas": null,
            "grid_template_columns": null,
            "grid_template_rows": null,
            "height": null,
            "justify_content": null,
            "justify_items": null,
            "left": null,
            "margin": null,
            "max_height": null,
            "max_width": null,
            "min_height": null,
            "min_width": null,
            "object_fit": null,
            "object_position": null,
            "order": null,
            "overflow": null,
            "overflow_x": null,
            "overflow_y": null,
            "padding": null,
            "right": null,
            "top": null,
            "visibility": null,
            "width": null
          }
        },
        "ed96d5e2cf65406184efd5cadd9788dc": {
          "model_module": "@jupyter-widgets/controls",
          "model_name": "DescriptionStyleModel",
          "state": {
            "_model_module": "@jupyter-widgets/controls",
            "_model_module_version": "1.5.0",
            "_model_name": "DescriptionStyleModel",
            "_view_count": null,
            "_view_module": "@jupyter-widgets/base",
            "_view_module_version": "1.2.0",
            "_view_name": "StyleView",
            "description_width": ""
          }
        },
        "01bb25bc0fc6420285bf1f63f63fe736": {
          "model_module": "@jupyter-widgets/controls",
          "model_name": "HBoxModel",
          "state": {
            "_dom_classes": [],
            "_model_module": "@jupyter-widgets/controls",
            "_model_module_version": "1.5.0",
            "_model_name": "HBoxModel",
            "_view_count": null,
            "_view_module": "@jupyter-widgets/controls",
            "_view_module_version": "1.5.0",
            "_view_name": "HBoxView",
            "box_style": "",
            "children": [
              "IPY_MODEL_4dd22c3480b047179e58cdf0b8a9369a",
              "IPY_MODEL_b3e2fb340c424698b9317bbf85a14eb5"
            ],
            "layout": "IPY_MODEL_d1d9616f152c4a94818cd9310403671d"
          }
        },
        "4dd22c3480b047179e58cdf0b8a9369a": {
          "model_module": "@jupyter-widgets/controls",
          "model_name": "FloatProgressModel",
          "state": {
            "_dom_classes": [],
            "_model_module": "@jupyter-widgets/controls",
            "_model_module_version": "1.5.0",
            "_model_name": "FloatProgressModel",
            "_view_count": null,
            "_view_module": "@jupyter-widgets/controls",
            "_view_module_version": "1.5.0",
            "_view_name": "ProgressView",
            "bar_style": "success",
            "description": "",
            "description_tooltip": null,
            "layout": "IPY_MODEL_bc14ec1c2efd48c9b0b9046c133ddcdb",
            "max": 5148,
            "min": 0,
            "orientation": "horizontal",
            "style": "IPY_MODEL_2e5d74a2247d4fe0802feef40012d084",
            "value": 5148
          }
        },
        "b3e2fb340c424698b9317bbf85a14eb5": {
          "model_module": "@jupyter-widgets/controls",
          "model_name": "HTMLModel",
          "state": {
            "_dom_classes": [],
            "_model_module": "@jupyter-widgets/controls",
            "_model_module_version": "1.5.0",
            "_model_name": "HTMLModel",
            "_view_count": null,
            "_view_module": "@jupyter-widgets/controls",
            "_view_module_version": "1.5.0",
            "_view_name": "HTMLView",
            "description": "",
            "description_tooltip": null,
            "layout": "IPY_MODEL_855ab13f522449f1aedc0180da64cb37",
            "placeholder": "​",
            "style": "IPY_MODEL_84c58a946c2f43d1bebbe207ecac7196",
            "value": " 6144/? [00:00&lt;00:00, 47493.54it/s]"
          }
        },
        "d1d9616f152c4a94818cd9310403671d": {
          "model_module": "@jupyter-widgets/base",
          "model_name": "LayoutModel",
          "state": {
            "_model_module": "@jupyter-widgets/base",
            "_model_module_version": "1.2.0",
            "_model_name": "LayoutModel",
            "_view_count": null,
            "_view_module": "@jupyter-widgets/base",
            "_view_module_version": "1.2.0",
            "_view_name": "LayoutView",
            "align_content": null,
            "align_items": null,
            "align_self": null,
            "border": null,
            "bottom": null,
            "display": null,
            "flex": null,
            "flex_flow": null,
            "grid_area": null,
            "grid_auto_columns": null,
            "grid_auto_flow": null,
            "grid_auto_rows": null,
            "grid_column": null,
            "grid_gap": null,
            "grid_row": null,
            "grid_template_areas": null,
            "grid_template_columns": null,
            "grid_template_rows": null,
            "height": null,
            "justify_content": null,
            "justify_items": null,
            "left": null,
            "margin": null,
            "max_height": null,
            "max_width": null,
            "min_height": null,
            "min_width": null,
            "object_fit": null,
            "object_position": null,
            "order": null,
            "overflow": null,
            "overflow_x": null,
            "overflow_y": null,
            "padding": null,
            "right": null,
            "top": null,
            "visibility": null,
            "width": null
          }
        },
        "bc14ec1c2efd48c9b0b9046c133ddcdb": {
          "model_module": "@jupyter-widgets/base",
          "model_name": "LayoutModel",
          "state": {
            "_model_module": "@jupyter-widgets/base",
            "_model_module_version": "1.2.0",
            "_model_name": "LayoutModel",
            "_view_count": null,
            "_view_module": "@jupyter-widgets/base",
            "_view_module_version": "1.2.0",
            "_view_name": "LayoutView",
            "align_content": null,
            "align_items": null,
            "align_self": null,
            "border": null,
            "bottom": null,
            "display": null,
            "flex": null,
            "flex_flow": null,
            "grid_area": null,
            "grid_auto_columns": null,
            "grid_auto_flow": null,
            "grid_auto_rows": null,
            "grid_column": null,
            "grid_gap": null,
            "grid_row": null,
            "grid_template_areas": null,
            "grid_template_columns": null,
            "grid_template_rows": null,
            "height": null,
            "justify_content": null,
            "justify_items": null,
            "left": null,
            "margin": null,
            "max_height": null,
            "max_width": null,
            "min_height": null,
            "min_width": null,
            "object_fit": null,
            "object_position": null,
            "order": null,
            "overflow": null,
            "overflow_x": null,
            "overflow_y": null,
            "padding": null,
            "right": null,
            "top": null,
            "visibility": null,
            "width": null
          }
        },
        "2e5d74a2247d4fe0802feef40012d084": {
          "model_module": "@jupyter-widgets/controls",
          "model_name": "ProgressStyleModel",
          "state": {
            "_model_module": "@jupyter-widgets/controls",
            "_model_module_version": "1.5.0",
            "_model_name": "ProgressStyleModel",
            "_view_count": null,
            "_view_module": "@jupyter-widgets/base",
            "_view_module_version": "1.2.0",
            "_view_name": "StyleView",
            "bar_color": null,
            "description_width": "initial"
          }
        },
        "855ab13f522449f1aedc0180da64cb37": {
          "model_module": "@jupyter-widgets/base",
          "model_name": "LayoutModel",
          "state": {
            "_model_module": "@jupyter-widgets/base",
            "_model_module_version": "1.2.0",
            "_model_name": "LayoutModel",
            "_view_count": null,
            "_view_module": "@jupyter-widgets/base",
            "_view_module_version": "1.2.0",
            "_view_name": "LayoutView",
            "align_content": null,
            "align_items": null,
            "align_self": null,
            "border": null,
            "bottom": null,
            "display": null,
            "flex": null,
            "flex_flow": null,
            "grid_area": null,
            "grid_auto_columns": null,
            "grid_auto_flow": null,
            "grid_auto_rows": null,
            "grid_column": null,
            "grid_gap": null,
            "grid_row": null,
            "grid_template_areas": null,
            "grid_template_columns": null,
            "grid_template_rows": null,
            "height": null,
            "justify_content": null,
            "justify_items": null,
            "left": null,
            "margin": null,
            "max_height": null,
            "max_width": null,
            "min_height": null,
            "min_width": null,
            "object_fit": null,
            "object_position": null,
            "order": null,
            "overflow": null,
            "overflow_x": null,
            "overflow_y": null,
            "padding": null,
            "right": null,
            "top": null,
            "visibility": null,
            "width": null
          }
        },
        "84c58a946c2f43d1bebbe207ecac7196": {
          "model_module": "@jupyter-widgets/controls",
          "model_name": "DescriptionStyleModel",
          "state": {
            "_model_module": "@jupyter-widgets/controls",
            "_model_module_version": "1.5.0",
            "_model_name": "DescriptionStyleModel",
            "_view_count": null,
            "_view_module": "@jupyter-widgets/base",
            "_view_module_version": "1.2.0",
            "_view_name": "StyleView",
            "description_width": ""
          }
        }
      }
    }
  },
  "cells": [
    {
      "cell_type": "markdown",
      "metadata": {
        "id": "view-in-github",
        "colab_type": "text"
      },
      "source": [
        "<a href=\"https://colab.research.google.com/github/GrayardET/MIT-Reserach/blob/main/Homework2/RNN_MIT.ipynb\" target=\"_parent\"><img src=\"https://colab.research.google.com/assets/colab-badge.svg\" alt=\"Open In Colab\"/></a>"
      ]
    },
    {
      "cell_type": "markdown",
      "metadata": {
        "id": "z58e4PJ_LP25"
      },
      "source": [
        "## RNN Model for Image Classification\n",
        "\n"
      ]
    },
    {
      "cell_type": "code",
      "metadata": {
        "colab": {
          "base_uri": "https://localhost:8080/"
        },
        "id": "lxJ_tl6So-Qa",
        "outputId": "672469ce-df7d-4f6f-cff5-c47a7f2b30a3"
      },
      "source": [
        "import numpy as np\n",
        "import pandas as pd\n",
        "import matplotlib.pyplot as plt\n",
        "\n",
        "import tensorflow as tf\n",
        "import torch\n",
        "\n",
        "import torch.nn as nn\n",
        "import torch.nn.functional as F\n",
        "import torch.optim as optim\n",
        "\n",
        "import torchvision\n",
        "import torchvision.transforms as transforms\n",
        "\n",
        "import time\n",
        "import tqdm\n",
        "from torch.utils.data import *\n",
        "\n",
        "from sklearn.model_selection import KFold\n",
        "\n",
        "from sklearn.metrics import confusion_matrix\n",
        "import seaborn as sns\n",
        "from sklearn.metrics import f1_score\n",
        "from sklearn.metrics import precision_score\n",
        "from sklearn.metrics import recall_score\n",
        "\n",
        "\n",
        "\n",
        "device = torch.device(\"cuda\" if torch.cuda.is_available() else \"cpu\")\n",
        "print(device)"
      ],
      "execution_count": null,
      "outputs": [
        {
          "output_type": "stream",
          "text": [
            "cuda\n"
          ],
          "name": "stdout"
        }
      ]
    },
    {
      "cell_type": "markdown",
      "metadata": {
        "id": "xLqVZB9sHETd"
      },
      "source": [
        "### Constants"
      ]
    },
    {
      "cell_type": "code",
      "metadata": {
        "id": "qgmljQ6oeD-u"
      },
      "source": [
        "BATCH_SIZE = 64\n",
        "K_FOLDS = 5\n",
        "N_X = 28\n",
        "N_H = 100\n",
        "LR = 0.001\n",
        "N_EPOCH = 20"
      ],
      "execution_count": null,
      "outputs": []
    },
    {
      "cell_type": "code",
      "metadata": {
        "id": "-9dwpW_rDAHe"
      },
      "source": [
        "# list all transformations\n",
        "transform = transforms.Compose(\n",
        "    [transforms.ToTensor(), transforms.Normalize(0.286041, 0.353024)])"
      ],
      "execution_count": null,
      "outputs": []
    },
    {
      "cell_type": "markdown",
      "metadata": {
        "id": "aeNhSJJ9NNDa"
      },
      "source": [
        "### Data Loading: Fashion_Mnist"
      ]
    },
    {
      "cell_type": "code",
      "metadata": {
        "colab": {
          "base_uri": "https://localhost:8080/",
          "height": 539,
          "referenced_widgets": [
            "e1a22c07cffe4e7490e7959375243480",
            "dad24c77fd444364b0ee3f5de1a06dac",
            "d6adaf0b6ffc4e52b1ba4da5e8cd4869",
            "3c34d2fed9f64e7b9b9186cc8cb8fe2e",
            "452f2bce07b640ebb579833dbca2cab2",
            "4683e8c4b96e42c793a2cae8180af6d3",
            "2168251212b04b3796ed8fc6a58beb7a",
            "05c4c09f95434fd091e60aef7c2114d6",
            "caa503e979f542a6ad25e36f4ccf0afa",
            "05bea7d5b9a8471a9652f65e8dd06f2e",
            "9315bbff27474cd5b5a6ea85517ebdc3",
            "5f51121340aa4297adeb3a9e0f74b88d",
            "483fd4934709427e9bac627b8e6b2177",
            "a8e1a595ac454f06842e32484ea7cd02",
            "aaf07397a006411fbcb80d35029a3140",
            "f6019f7edd70443b8779bcd8eb1dc24d",
            "6a04c7a28c104724b4be264478a30e0a",
            "784a8b30a8ae4eb5a4a3c842d3417e8c",
            "6f5bd1c086c4492883e79429b7635c6c",
            "3aaf52b861794d5c92922cf1dd7986d3",
            "60d5aba8a53e47b2a27cc29b7df1903b",
            "85f57833487d4e4abef319fcda48fc3f",
            "353ef916886449b1b4a077341f35699c",
            "ed96d5e2cf65406184efd5cadd9788dc",
            "01bb25bc0fc6420285bf1f63f63fe736",
            "4dd22c3480b047179e58cdf0b8a9369a",
            "b3e2fb340c424698b9317bbf85a14eb5",
            "d1d9616f152c4a94818cd9310403671d",
            "bc14ec1c2efd48c9b0b9046c133ddcdb",
            "2e5d74a2247d4fe0802feef40012d084",
            "855ab13f522449f1aedc0180da64cb37",
            "84c58a946c2f43d1bebbe207ecac7196"
          ]
        },
        "id": "erYx4_iLLsEL",
        "outputId": "0808f53e-8379-48d0-b1f8-ec8e8a2d8014"
      },
      "source": [
        "# Loading Fashion Mnist dataset from torchVision and downloads it to local machine\n",
        "train_set = torchvision.datasets.FashionMNIST(root = './data', train = True, download = True, transform = transform)\n",
        "test_set = torchvision.datasets.FashionMNIST(root = './data', train = False, transform = transform)\n",
        "\n",
        "# To make sure that we don't run into dimension conflicts, drop the last incomplete batch\n",
        "# train_loader = torch.utils.data.DataLoader(train_set, batch_size = 64, shuffle = True, num_workers = 2, drop_last = True)\n",
        "# test_loader = torch.utils.data.DataLoader(test_set, batch_size = 64, shuffle = True, num_workers = 2, drop_last = True)"
      ],
      "execution_count": null,
      "outputs": [
        {
          "output_type": "stream",
          "text": [
            "Downloading http://fashion-mnist.s3-website.eu-central-1.amazonaws.com/train-images-idx3-ubyte.gz\n",
            "Downloading http://fashion-mnist.s3-website.eu-central-1.amazonaws.com/train-images-idx3-ubyte.gz to ./data/FashionMNIST/raw/train-images-idx3-ubyte.gz\n"
          ],
          "name": "stdout"
        },
        {
          "output_type": "display_data",
          "data": {
            "application/vnd.jupyter.widget-view+json": {
              "model_id": "e1a22c07cffe4e7490e7959375243480",
              "version_major": 2,
              "version_minor": 0
            },
            "text/plain": [
              "HBox(children=(FloatProgress(value=0.0, max=26421880.0), HTML(value='')))"
            ]
          },
          "metadata": {
            "tags": []
          }
        },
        {
          "output_type": "stream",
          "text": [
            "\n",
            "Extracting ./data/FashionMNIST/raw/train-images-idx3-ubyte.gz to ./data/FashionMNIST/raw\n",
            "\n",
            "Downloading http://fashion-mnist.s3-website.eu-central-1.amazonaws.com/train-labels-idx1-ubyte.gz\n",
            "Downloading http://fashion-mnist.s3-website.eu-central-1.amazonaws.com/train-labels-idx1-ubyte.gz to ./data/FashionMNIST/raw/train-labels-idx1-ubyte.gz\n"
          ],
          "name": "stdout"
        },
        {
          "output_type": "display_data",
          "data": {
            "application/vnd.jupyter.widget-view+json": {
              "model_id": "caa503e979f542a6ad25e36f4ccf0afa",
              "version_major": 2,
              "version_minor": 0
            },
            "text/plain": [
              "HBox(children=(FloatProgress(value=0.0, max=29515.0), HTML(value='')))"
            ]
          },
          "metadata": {
            "tags": []
          }
        },
        {
          "output_type": "stream",
          "text": [
            "\n",
            "Extracting ./data/FashionMNIST/raw/train-labels-idx1-ubyte.gz to ./data/FashionMNIST/raw\n",
            "\n",
            "Downloading http://fashion-mnist.s3-website.eu-central-1.amazonaws.com/t10k-images-idx3-ubyte.gz\n",
            "Downloading http://fashion-mnist.s3-website.eu-central-1.amazonaws.com/t10k-images-idx3-ubyte.gz to ./data/FashionMNIST/raw/t10k-images-idx3-ubyte.gz\n"
          ],
          "name": "stdout"
        },
        {
          "output_type": "display_data",
          "data": {
            "application/vnd.jupyter.widget-view+json": {
              "model_id": "6a04c7a28c104724b4be264478a30e0a",
              "version_major": 2,
              "version_minor": 0
            },
            "text/plain": [
              "HBox(children=(FloatProgress(value=0.0, max=4422102.0), HTML(value='')))"
            ]
          },
          "metadata": {
            "tags": []
          }
        },
        {
          "output_type": "stream",
          "text": [
            "\n",
            "Extracting ./data/FashionMNIST/raw/t10k-images-idx3-ubyte.gz to ./data/FashionMNIST/raw\n",
            "\n",
            "Downloading http://fashion-mnist.s3-website.eu-central-1.amazonaws.com/t10k-labels-idx1-ubyte.gz\n",
            "Downloading http://fashion-mnist.s3-website.eu-central-1.amazonaws.com/t10k-labels-idx1-ubyte.gz to ./data/FashionMNIST/raw/t10k-labels-idx1-ubyte.gz\n"
          ],
          "name": "stdout"
        },
        {
          "output_type": "display_data",
          "data": {
            "application/vnd.jupyter.widget-view+json": {
              "model_id": "01bb25bc0fc6420285bf1f63f63fe736",
              "version_major": 2,
              "version_minor": 0
            },
            "text/plain": [
              "HBox(children=(FloatProgress(value=0.0, max=5148.0), HTML(value='')))"
            ]
          },
          "metadata": {
            "tags": []
          }
        },
        {
          "output_type": "stream",
          "text": [
            "\n",
            "Extracting ./data/FashionMNIST/raw/t10k-labels-idx1-ubyte.gz to ./data/FashionMNIST/raw\n",
            "\n"
          ],
          "name": "stdout"
        },
        {
          "output_type": "stream",
          "text": [
            "/usr/local/lib/python3.7/dist-packages/torchvision/datasets/mnist.py:498: UserWarning: The given NumPy array is not writeable, and PyTorch does not support non-writeable tensors. This means you can write to the underlying (supposedly non-writeable) NumPy array using the tensor. You may want to copy the array to protect its data or make it writeable before converting it to a tensor. This type of warning will be suppressed for the rest of this program. (Triggered internally at  /pytorch/torch/csrc/utils/tensor_numpy.cpp:180.)\n",
            "  return torch.from_numpy(parsed.astype(m[2], copy=False)).view(*s)\n"
          ],
          "name": "stderr"
        }
      ]
    },
    {
      "cell_type": "markdown",
      "metadata": {
        "id": "aEegZmXdfMmi"
      },
      "source": [
        "### Construct Models"
      ]
    },
    {
      "cell_type": "code",
      "metadata": {
        "id": "XcH5NoXbtQQq"
      },
      "source": [
        "# Model for many to one basic RNN with one layer only.\n",
        "class ImageRNN(nn.Module):\n",
        "    def __init__(self, n_x, n_h, batch_size):\n",
        "        super(ImageRNN, self).__init__()\n",
        "        \n",
        "        self.n_h = n_h\n",
        "        self.n_x = n_x\n",
        "\n",
        "        # batch_size is in x.shape(0), so we set bach_first = True\n",
        "        self.rnn = nn.RNN(self.n_x, self.n_h, batch_first = True) \n",
        "        \n",
        "        self.outputLayer = nn.Linear(self.n_h, 10)\n",
        "        \n",
        "    def forward(self, X):\n",
        "        \n",
        "        self.batch_size = X.size(0)\n",
        "        self.hidden = torch.zeros(1, 64, self.n_h).to(device)\n",
        "        hidden_set, self.hidden = self.rnn(X, self.hidden)      \n",
        "        out = self.outputLayer(self.hidden)\n",
        "        \n",
        "        return out.view(-1, 10) # batch_size X n_output\n",
        "        "
      ],
      "execution_count": null,
      "outputs": []
    },
    {
      "cell_type": "code",
      "metadata": {
        "id": "W3-P4I8ZTPWN"
      },
      "source": [
        "# Model for LSTM.\n",
        "class LSTM(nn.Module):\n",
        "    def __init__(self, n_x, n_h, batch_size):\n",
        "        super(LSTM, self).__init__()\n",
        "        \n",
        "        self.n_h = n_h\n",
        "        self.n_x = n_x\n",
        "        self.lstm = nn.LSTM(self.n_x, batch_size, batch_first = True) \n",
        "        \n",
        "        self.outputLayer = nn.Linear(batch_size, 10)\n",
        "        \n",
        "    def forward(self, X):\n",
        "        \n",
        "        output,(first,second) = self.lstm(X, None) \n",
        "        out = self.outputLayer(output[:,-1,:])\n",
        "        \n",
        "        return out"
      ],
      "execution_count": null,
      "outputs": []
    },
    {
      "cell_type": "markdown",
      "metadata": {
        "id": "WU6qWxiVfCc4"
      },
      "source": [
        "### Util functions"
      ]
    },
    {
      "cell_type": "code",
      "metadata": {
        "id": "hPLtngjNjxCG"
      },
      "source": [
        "# function that computes the accuracy of a batch\n",
        "def acc_batch(y_hat, target, batch_size):\n",
        "    ''' Obtain accuracy for training round '''\n",
        "    # assign index of the max prediction value as it's class, with axis = 1\n",
        "    y_category = torch.argmax(y_hat, dim = 1)\n",
        "    corrects = (y_category == target.data).sum()\n",
        "    acc= 100.0 * corrects/batch_size\n",
        "    return acc.item()\n",
        "\n",
        "\n",
        "def total_acc(loader, model, batch_size):\n",
        "    Y = []\n",
        "    Y_pred = []\n",
        "    with torch.no_grad():\n",
        "        acc = 0.0\n",
        "        for j, (x, y) in enumerate(loader):\n",
        "            x = x.view(-1, 28, 28).to(device)\n",
        "            y = y.to(device)\n",
        "            y_hat = model(x)\n",
        "            acc += acc_batch(y_hat, y, BATCH_SIZE)\n",
        "\n",
        "            pred = torch.argmax(y_hat, axis = 1)\n",
        "            Y_pred.append(pred)\n",
        "            Y.append(y)\n",
        "\n",
        "        Y = torch.cat(Y).tolist()\n",
        "        Y_pred = torch.cat(Y_pred).tolist()\n",
        "        return acc/j, Y, Y_pred\n",
        "\n",
        "\n",
        "def visualize_batch(t):\n",
        "# Visualize dataset:\n",
        "# make_grid function takes in tensor of shape (B X C X H X W)\n",
        "# with B being the batch size and C being the num of channels\n",
        "# C = 1 since our image is gray scale\n",
        "# Functions takes a tensor of shape (B X C X H X W) and shows the whole batch of image\n",
        "    t = torchvision.utils.make_grid(t)\n",
        "\n",
        "    # permute tensor for plotting\n",
        "    images_reshaped = t.permute(1,2,0)\n",
        "\n",
        "    plt.figure(figsize = (7,7))\n",
        "    plt.imshow(images_reshaped)"
      ],
      "execution_count": null,
      "outputs": []
    },
    {
      "cell_type": "code",
      "metadata": {
        "id": "6B-ikSFqMTY3"
      },
      "source": [
        "def train_model(model, loss_func, optimizer, n_epoch, train_loader, test_loader):\n",
        "    train_acc_list = []\n",
        "    eval_acc_list = []\n",
        "    Y = []\n",
        "    Y_pred = []\n",
        "    for epoch in range(n_epoch):  # loop over the dataset multiple times\n",
        "        train_running_loss = 0.0\n",
        "        train_acc = 0.0\n",
        "        model.train()\n",
        "        \n",
        "        # Train batches in each epoch\n",
        "        for i, (images, labels) in enumerate(train_loader):\n",
        "\n",
        "            # Reset Gradient in every iteration\n",
        "            optimizer.zero_grad()\n",
        "\n",
        "            images = images.view(-1, 28,28).to(device)\n",
        "            labels = labels.to(device)\n",
        "\n",
        "            # forward and backward propagation\n",
        "            outputs = model(images)\n",
        "            # computer loss and gradient\n",
        "            loss = loss_func(outputs, labels)\n",
        "            loss.backward()\n",
        "            # update parameters\n",
        "            optimizer.step()\n",
        "\n",
        "            train_running_loss += loss.detach().item()\n",
        "            train_acc += acc_batch(outputs, labels, BATCH_SIZE)\n",
        "\n",
        "            # Construct Y and Y_pred for confusion-matrix plotting\n",
        "\n",
        "\n",
        "\n",
        "        model.eval()\n",
        "\n",
        "        evaluation_acc, Y, Y_pred = total_acc(test_loader, model, BATCH_SIZE)\n",
        "        print(len(Y))\n",
        "        train_acc_list.append(train_acc / i)\n",
        "        eval_acc_list.append(evaluation_acc)\n",
        "\n",
        "        print('Epoch:  %d | Loss: %.4f | Train Accuracy: %.2f | Evaluation Accuracy: %.2f' \n",
        "            %(epoch, train_running_loss / i, train_acc/i, evaluation_acc))\n",
        "\n",
        "    return train_acc_list, eval_acc_list, Y, Y_pred"
      ],
      "execution_count": null,
      "outputs": []
    },
    {
      "cell_type": "markdown",
      "metadata": {
        "id": "iFyxFSZ2Yxez"
      },
      "source": [
        "### Implement K-fold Validation"
      ]
    },
    {
      "cell_type": "markdown",
      "metadata": {
        "id": "1kClD12zoJGD"
      },
      "source": [
        "KFold Cross Validation With RNN"
      ]
    },
    {
      "cell_type": "code",
      "metadata": {
        "colab": {
          "base_uri": "https://localhost:8080/",
          "height": 409
        },
        "id": "eNcItLTiYwj1",
        "outputId": "8c2b9663-4ebd-4a73-bd6c-c9f6e274388a"
      },
      "source": [
        "# Concatenate two datasets\n",
        "datasetList = [train_set, test_set]\n",
        "dataset_concated = torch.utils.data.ConcatDataset(datasetList)\n",
        "\n",
        "# Use KFold in sklearn to distribute data\n",
        "kfold = KFold(n_splits = K_FOLDS, shuffle = True)\n",
        "train_acc_list = []\n",
        "eval_acc_list = []\n",
        "\n",
        "for fold, (train_ids, test_ids) in enumerate(kfold.split(dataset_concated)):\n",
        "    print(f'THE {fold}th FOLD')\n",
        "    print('------------------------------------------------------------------')\n",
        "\n",
        "\n",
        "    train_subsampler = torch.utils.data.SubsetRandomSampler(train_ids)\n",
        "    test_subsampler = torch.utils.data.SubsetRandomSampler(test_ids)\n",
        "\n",
        "\n",
        "    train_loader = torch.utils.data.DataLoader(dataset_concated, batch_size = BATCH_SIZE, \n",
        "                                               sampler = train_subsampler, drop_last=True)\n",
        "    test_loader = torch.utils.data.DataLoader(dataset_concated, batch_size=BATCH_SIZE, \n",
        "                                              sampler = test_subsampler, drop_last = True)\n",
        "    \n",
        "    # Define model, optimizer and loss function\n",
        "    model = ImageRNN(N_X, N_H, BATCH_SIZE).to(device)\n",
        "    loss_func = nn.CrossEntropyLoss()\n",
        "    optimizer = optim.Adam(model.parameters(), lr=LR)\n",
        "\n",
        "    # Training the model and output Accuracy\n",
        "    trainAcc, evalAcc, Y, Y_pred = train_model(model, loss_func, optimizer, N_EPOCH, train_loader, test_loader)\n",
        "\n",
        "    # keep track of prediction accuracies\n",
        "    train_acc_list.append(trainAcc)\n",
        "    eval_acc_list.append(evalAcc)\n",
        "    print('\\n\\n')"
      ],
      "execution_count": null,
      "outputs": [
        {
          "output_type": "stream",
          "text": [
            "THE 0th FOLD\n",
            "------------------------------------------------------------------\n"
          ],
          "name": "stdout"
        },
        {
          "output_type": "error",
          "ename": "KeyboardInterrupt",
          "evalue": "ignored",
          "traceback": [
            "\u001b[0;31m---------------------------------------------------------------------------\u001b[0m",
            "\u001b[0;31mKeyboardInterrupt\u001b[0m                         Traceback (most recent call last)",
            "\u001b[0;32m<ipython-input-13-b7b71b8c87bd>\u001b[0m in \u001b[0;36m<module>\u001b[0;34m()\u001b[0m\n\u001b[1;32m     28\u001b[0m \u001b[0;34m\u001b[0m\u001b[0m\n\u001b[1;32m     29\u001b[0m     \u001b[0;31m# Training the model and output Accuracy\u001b[0m\u001b[0;34m\u001b[0m\u001b[0;34m\u001b[0m\u001b[0;34m\u001b[0m\u001b[0m\n\u001b[0;32m---> 30\u001b[0;31m     \u001b[0mtrainAcc\u001b[0m\u001b[0;34m,\u001b[0m \u001b[0mevalAcc\u001b[0m\u001b[0;34m,\u001b[0m \u001b[0mY\u001b[0m\u001b[0;34m,\u001b[0m \u001b[0mY_pred\u001b[0m \u001b[0;34m=\u001b[0m \u001b[0mtrain_model\u001b[0m\u001b[0;34m(\u001b[0m\u001b[0mmodel\u001b[0m\u001b[0;34m,\u001b[0m \u001b[0mloss_func\u001b[0m\u001b[0;34m,\u001b[0m \u001b[0moptimizer\u001b[0m\u001b[0;34m,\u001b[0m \u001b[0mN_EPOCH\u001b[0m\u001b[0;34m,\u001b[0m \u001b[0mtrain_loader\u001b[0m\u001b[0;34m,\u001b[0m \u001b[0mtest_loader\u001b[0m\u001b[0;34m)\u001b[0m\u001b[0;34m\u001b[0m\u001b[0;34m\u001b[0m\u001b[0m\n\u001b[0m\u001b[1;32m     31\u001b[0m \u001b[0;34m\u001b[0m\u001b[0m\n\u001b[1;32m     32\u001b[0m     \u001b[0;31m# keep track of prediction accuracies\u001b[0m\u001b[0;34m\u001b[0m\u001b[0;34m\u001b[0m\u001b[0;34m\u001b[0m\u001b[0m\n",
            "\u001b[0;32m<ipython-input-12-82dad9b4c38d>\u001b[0m in \u001b[0;36mtrain_model\u001b[0;34m(model, loss_func, optimizer, n_epoch, train_loader, test_loader)\u001b[0m\n\u001b[1;32m     10\u001b[0m \u001b[0;34m\u001b[0m\u001b[0m\n\u001b[1;32m     11\u001b[0m         \u001b[0;31m# Train batches in each epoch\u001b[0m\u001b[0;34m\u001b[0m\u001b[0;34m\u001b[0m\u001b[0;34m\u001b[0m\u001b[0m\n\u001b[0;32m---> 12\u001b[0;31m         \u001b[0;32mfor\u001b[0m \u001b[0mi\u001b[0m\u001b[0;34m,\u001b[0m \u001b[0;34m(\u001b[0m\u001b[0mimages\u001b[0m\u001b[0;34m,\u001b[0m \u001b[0mlabels\u001b[0m\u001b[0;34m)\u001b[0m \u001b[0;32min\u001b[0m \u001b[0menumerate\u001b[0m\u001b[0;34m(\u001b[0m\u001b[0mtrain_loader\u001b[0m\u001b[0;34m)\u001b[0m\u001b[0;34m:\u001b[0m\u001b[0;34m\u001b[0m\u001b[0;34m\u001b[0m\u001b[0m\n\u001b[0m\u001b[1;32m     13\u001b[0m \u001b[0;34m\u001b[0m\u001b[0m\n\u001b[1;32m     14\u001b[0m             \u001b[0;31m# Reset Gradient in every iteration\u001b[0m\u001b[0;34m\u001b[0m\u001b[0;34m\u001b[0m\u001b[0;34m\u001b[0m\u001b[0m\n",
            "\u001b[0;32m/usr/local/lib/python3.7/dist-packages/torch/utils/data/dataloader.py\u001b[0m in \u001b[0;36m__next__\u001b[0;34m(self)\u001b[0m\n\u001b[1;32m    519\u001b[0m             \u001b[0;32mif\u001b[0m \u001b[0mself\u001b[0m\u001b[0;34m.\u001b[0m\u001b[0m_sampler_iter\u001b[0m \u001b[0;32mis\u001b[0m \u001b[0;32mNone\u001b[0m\u001b[0;34m:\u001b[0m\u001b[0;34m\u001b[0m\u001b[0;34m\u001b[0m\u001b[0m\n\u001b[1;32m    520\u001b[0m                 \u001b[0mself\u001b[0m\u001b[0;34m.\u001b[0m\u001b[0m_reset\u001b[0m\u001b[0;34m(\u001b[0m\u001b[0;34m)\u001b[0m\u001b[0;34m\u001b[0m\u001b[0;34m\u001b[0m\u001b[0m\n\u001b[0;32m--> 521\u001b[0;31m             \u001b[0mdata\u001b[0m \u001b[0;34m=\u001b[0m \u001b[0mself\u001b[0m\u001b[0;34m.\u001b[0m\u001b[0m_next_data\u001b[0m\u001b[0;34m(\u001b[0m\u001b[0;34m)\u001b[0m\u001b[0;34m\u001b[0m\u001b[0;34m\u001b[0m\u001b[0m\n\u001b[0m\u001b[1;32m    522\u001b[0m             \u001b[0mself\u001b[0m\u001b[0;34m.\u001b[0m\u001b[0m_num_yielded\u001b[0m \u001b[0;34m+=\u001b[0m \u001b[0;36m1\u001b[0m\u001b[0;34m\u001b[0m\u001b[0;34m\u001b[0m\u001b[0m\n\u001b[1;32m    523\u001b[0m             \u001b[0;32mif\u001b[0m \u001b[0mself\u001b[0m\u001b[0;34m.\u001b[0m\u001b[0m_dataset_kind\u001b[0m \u001b[0;34m==\u001b[0m \u001b[0m_DatasetKind\u001b[0m\u001b[0;34m.\u001b[0m\u001b[0mIterable\u001b[0m \u001b[0;32mand\u001b[0m\u001b[0;31m \u001b[0m\u001b[0;31m\\\u001b[0m\u001b[0;34m\u001b[0m\u001b[0;34m\u001b[0m\u001b[0m\n",
            "\u001b[0;32m/usr/local/lib/python3.7/dist-packages/torch/utils/data/dataloader.py\u001b[0m in \u001b[0;36m_next_data\u001b[0;34m(self)\u001b[0m\n\u001b[1;32m    559\u001b[0m     \u001b[0;32mdef\u001b[0m \u001b[0m_next_data\u001b[0m\u001b[0;34m(\u001b[0m\u001b[0mself\u001b[0m\u001b[0;34m)\u001b[0m\u001b[0;34m:\u001b[0m\u001b[0;34m\u001b[0m\u001b[0;34m\u001b[0m\u001b[0m\n\u001b[1;32m    560\u001b[0m         \u001b[0mindex\u001b[0m \u001b[0;34m=\u001b[0m \u001b[0mself\u001b[0m\u001b[0;34m.\u001b[0m\u001b[0m_next_index\u001b[0m\u001b[0;34m(\u001b[0m\u001b[0;34m)\u001b[0m  \u001b[0;31m# may raise StopIteration\u001b[0m\u001b[0;34m\u001b[0m\u001b[0;34m\u001b[0m\u001b[0m\n\u001b[0;32m--> 561\u001b[0;31m         \u001b[0mdata\u001b[0m \u001b[0;34m=\u001b[0m \u001b[0mself\u001b[0m\u001b[0;34m.\u001b[0m\u001b[0m_dataset_fetcher\u001b[0m\u001b[0;34m.\u001b[0m\u001b[0mfetch\u001b[0m\u001b[0;34m(\u001b[0m\u001b[0mindex\u001b[0m\u001b[0;34m)\u001b[0m  \u001b[0;31m# may raise StopIteration\u001b[0m\u001b[0;34m\u001b[0m\u001b[0;34m\u001b[0m\u001b[0m\n\u001b[0m\u001b[1;32m    562\u001b[0m         \u001b[0;32mif\u001b[0m \u001b[0mself\u001b[0m\u001b[0;34m.\u001b[0m\u001b[0m_pin_memory\u001b[0m\u001b[0;34m:\u001b[0m\u001b[0;34m\u001b[0m\u001b[0;34m\u001b[0m\u001b[0m\n\u001b[1;32m    563\u001b[0m             \u001b[0mdata\u001b[0m \u001b[0;34m=\u001b[0m \u001b[0m_utils\u001b[0m\u001b[0;34m.\u001b[0m\u001b[0mpin_memory\u001b[0m\u001b[0;34m.\u001b[0m\u001b[0mpin_memory\u001b[0m\u001b[0;34m(\u001b[0m\u001b[0mdata\u001b[0m\u001b[0;34m)\u001b[0m\u001b[0;34m\u001b[0m\u001b[0;34m\u001b[0m\u001b[0m\n",
            "\u001b[0;32m/usr/local/lib/python3.7/dist-packages/torch/utils/data/_utils/fetch.py\u001b[0m in \u001b[0;36mfetch\u001b[0;34m(self, possibly_batched_index)\u001b[0m\n\u001b[1;32m     42\u001b[0m     \u001b[0;32mdef\u001b[0m \u001b[0mfetch\u001b[0m\u001b[0;34m(\u001b[0m\u001b[0mself\u001b[0m\u001b[0;34m,\u001b[0m \u001b[0mpossibly_batched_index\u001b[0m\u001b[0;34m)\u001b[0m\u001b[0;34m:\u001b[0m\u001b[0;34m\u001b[0m\u001b[0;34m\u001b[0m\u001b[0m\n\u001b[1;32m     43\u001b[0m         \u001b[0;32mif\u001b[0m \u001b[0mself\u001b[0m\u001b[0;34m.\u001b[0m\u001b[0mauto_collation\u001b[0m\u001b[0;34m:\u001b[0m\u001b[0;34m\u001b[0m\u001b[0;34m\u001b[0m\u001b[0m\n\u001b[0;32m---> 44\u001b[0;31m             \u001b[0mdata\u001b[0m \u001b[0;34m=\u001b[0m \u001b[0;34m[\u001b[0m\u001b[0mself\u001b[0m\u001b[0;34m.\u001b[0m\u001b[0mdataset\u001b[0m\u001b[0;34m[\u001b[0m\u001b[0midx\u001b[0m\u001b[0;34m]\u001b[0m \u001b[0;32mfor\u001b[0m \u001b[0midx\u001b[0m \u001b[0;32min\u001b[0m \u001b[0mpossibly_batched_index\u001b[0m\u001b[0;34m]\u001b[0m\u001b[0;34m\u001b[0m\u001b[0;34m\u001b[0m\u001b[0m\n\u001b[0m\u001b[1;32m     45\u001b[0m         \u001b[0;32melse\u001b[0m\u001b[0;34m:\u001b[0m\u001b[0;34m\u001b[0m\u001b[0;34m\u001b[0m\u001b[0m\n\u001b[1;32m     46\u001b[0m             \u001b[0mdata\u001b[0m \u001b[0;34m=\u001b[0m \u001b[0mself\u001b[0m\u001b[0;34m.\u001b[0m\u001b[0mdataset\u001b[0m\u001b[0;34m[\u001b[0m\u001b[0mpossibly_batched_index\u001b[0m\u001b[0;34m]\u001b[0m\u001b[0;34m\u001b[0m\u001b[0;34m\u001b[0m\u001b[0m\n",
            "\u001b[0;32m/usr/local/lib/python3.7/dist-packages/torch/utils/data/_utils/fetch.py\u001b[0m in \u001b[0;36m<listcomp>\u001b[0;34m(.0)\u001b[0m\n\u001b[1;32m     42\u001b[0m     \u001b[0;32mdef\u001b[0m \u001b[0mfetch\u001b[0m\u001b[0;34m(\u001b[0m\u001b[0mself\u001b[0m\u001b[0;34m,\u001b[0m \u001b[0mpossibly_batched_index\u001b[0m\u001b[0;34m)\u001b[0m\u001b[0;34m:\u001b[0m\u001b[0;34m\u001b[0m\u001b[0;34m\u001b[0m\u001b[0m\n\u001b[1;32m     43\u001b[0m         \u001b[0;32mif\u001b[0m \u001b[0mself\u001b[0m\u001b[0;34m.\u001b[0m\u001b[0mauto_collation\u001b[0m\u001b[0;34m:\u001b[0m\u001b[0;34m\u001b[0m\u001b[0;34m\u001b[0m\u001b[0m\n\u001b[0;32m---> 44\u001b[0;31m             \u001b[0mdata\u001b[0m \u001b[0;34m=\u001b[0m \u001b[0;34m[\u001b[0m\u001b[0mself\u001b[0m\u001b[0;34m.\u001b[0m\u001b[0mdataset\u001b[0m\u001b[0;34m[\u001b[0m\u001b[0midx\u001b[0m\u001b[0;34m]\u001b[0m \u001b[0;32mfor\u001b[0m \u001b[0midx\u001b[0m \u001b[0;32min\u001b[0m \u001b[0mpossibly_batched_index\u001b[0m\u001b[0;34m]\u001b[0m\u001b[0;34m\u001b[0m\u001b[0;34m\u001b[0m\u001b[0m\n\u001b[0m\u001b[1;32m     45\u001b[0m         \u001b[0;32melse\u001b[0m\u001b[0;34m:\u001b[0m\u001b[0;34m\u001b[0m\u001b[0;34m\u001b[0m\u001b[0m\n\u001b[1;32m     46\u001b[0m             \u001b[0mdata\u001b[0m \u001b[0;34m=\u001b[0m \u001b[0mself\u001b[0m\u001b[0;34m.\u001b[0m\u001b[0mdataset\u001b[0m\u001b[0;34m[\u001b[0m\u001b[0mpossibly_batched_index\u001b[0m\u001b[0;34m]\u001b[0m\u001b[0;34m\u001b[0m\u001b[0;34m\u001b[0m\u001b[0m\n",
            "\u001b[0;32m/usr/local/lib/python3.7/dist-packages/torch/utils/data/dataset.py\u001b[0m in \u001b[0;36m__getitem__\u001b[0;34m(self, idx)\u001b[0m\n\u001b[1;32m    255\u001b[0m         \u001b[0;32melse\u001b[0m\u001b[0;34m:\u001b[0m\u001b[0;34m\u001b[0m\u001b[0;34m\u001b[0m\u001b[0m\n\u001b[1;32m    256\u001b[0m             \u001b[0msample_idx\u001b[0m \u001b[0;34m=\u001b[0m \u001b[0midx\u001b[0m \u001b[0;34m-\u001b[0m \u001b[0mself\u001b[0m\u001b[0;34m.\u001b[0m\u001b[0mcumulative_sizes\u001b[0m\u001b[0;34m[\u001b[0m\u001b[0mdataset_idx\u001b[0m \u001b[0;34m-\u001b[0m \u001b[0;36m1\u001b[0m\u001b[0;34m]\u001b[0m\u001b[0;34m\u001b[0m\u001b[0;34m\u001b[0m\u001b[0m\n\u001b[0;32m--> 257\u001b[0;31m         \u001b[0;32mreturn\u001b[0m \u001b[0mself\u001b[0m\u001b[0;34m.\u001b[0m\u001b[0mdatasets\u001b[0m\u001b[0;34m[\u001b[0m\u001b[0mdataset_idx\u001b[0m\u001b[0;34m]\u001b[0m\u001b[0;34m[\u001b[0m\u001b[0msample_idx\u001b[0m\u001b[0;34m]\u001b[0m\u001b[0;34m\u001b[0m\u001b[0;34m\u001b[0m\u001b[0m\n\u001b[0m\u001b[1;32m    258\u001b[0m \u001b[0;34m\u001b[0m\u001b[0m\n\u001b[1;32m    259\u001b[0m     \u001b[0;34m@\u001b[0m\u001b[0mproperty\u001b[0m\u001b[0;34m\u001b[0m\u001b[0;34m\u001b[0m\u001b[0m\n",
            "\u001b[0;32m/usr/local/lib/python3.7/dist-packages/torchvision/datasets/mnist.py\u001b[0m in \u001b[0;36m__getitem__\u001b[0;34m(self, index)\u001b[0m\n\u001b[1;32m    129\u001b[0m         \u001b[0;31m# doing this so that it is consistent with all other datasets\u001b[0m\u001b[0;34m\u001b[0m\u001b[0;34m\u001b[0m\u001b[0;34m\u001b[0m\u001b[0m\n\u001b[1;32m    130\u001b[0m         \u001b[0;31m# to return a PIL Image\u001b[0m\u001b[0;34m\u001b[0m\u001b[0;34m\u001b[0m\u001b[0;34m\u001b[0m\u001b[0m\n\u001b[0;32m--> 131\u001b[0;31m         \u001b[0mimg\u001b[0m \u001b[0;34m=\u001b[0m \u001b[0mImage\u001b[0m\u001b[0;34m.\u001b[0m\u001b[0mfromarray\u001b[0m\u001b[0;34m(\u001b[0m\u001b[0mimg\u001b[0m\u001b[0;34m.\u001b[0m\u001b[0mnumpy\u001b[0m\u001b[0;34m(\u001b[0m\u001b[0;34m)\u001b[0m\u001b[0;34m,\u001b[0m \u001b[0mmode\u001b[0m\u001b[0;34m=\u001b[0m\u001b[0;34m'L'\u001b[0m\u001b[0;34m)\u001b[0m\u001b[0;34m\u001b[0m\u001b[0;34m\u001b[0m\u001b[0m\n\u001b[0m\u001b[1;32m    132\u001b[0m \u001b[0;34m\u001b[0m\u001b[0m\n\u001b[1;32m    133\u001b[0m         \u001b[0;32mif\u001b[0m \u001b[0mself\u001b[0m\u001b[0;34m.\u001b[0m\u001b[0mtransform\u001b[0m \u001b[0;32mis\u001b[0m \u001b[0;32mnot\u001b[0m \u001b[0;32mNone\u001b[0m\u001b[0;34m:\u001b[0m\u001b[0;34m\u001b[0m\u001b[0;34m\u001b[0m\u001b[0m\n",
            "\u001b[0;32m/usr/local/lib/python3.7/dist-packages/PIL/Image.py\u001b[0m in \u001b[0;36mfromarray\u001b[0;34m(obj, mode)\u001b[0m\n\u001b[1;32m   2733\u001b[0m             \u001b[0mobj\u001b[0m \u001b[0;34m=\u001b[0m \u001b[0mobj\u001b[0m\u001b[0;34m.\u001b[0m\u001b[0mtostring\u001b[0m\u001b[0;34m(\u001b[0m\u001b[0;34m)\u001b[0m\u001b[0;34m\u001b[0m\u001b[0;34m\u001b[0m\u001b[0m\n\u001b[1;32m   2734\u001b[0m \u001b[0;34m\u001b[0m\u001b[0m\n\u001b[0;32m-> 2735\u001b[0;31m     \u001b[0;32mreturn\u001b[0m \u001b[0mfrombuffer\u001b[0m\u001b[0;34m(\u001b[0m\u001b[0mmode\u001b[0m\u001b[0;34m,\u001b[0m \u001b[0msize\u001b[0m\u001b[0;34m,\u001b[0m \u001b[0mobj\u001b[0m\u001b[0;34m,\u001b[0m \u001b[0;34m\"raw\"\u001b[0m\u001b[0;34m,\u001b[0m \u001b[0mrawmode\u001b[0m\u001b[0;34m,\u001b[0m \u001b[0;36m0\u001b[0m\u001b[0;34m,\u001b[0m \u001b[0;36m1\u001b[0m\u001b[0;34m)\u001b[0m\u001b[0;34m\u001b[0m\u001b[0;34m\u001b[0m\u001b[0m\n\u001b[0m\u001b[1;32m   2736\u001b[0m \u001b[0;34m\u001b[0m\u001b[0m\n\u001b[1;32m   2737\u001b[0m \u001b[0;34m\u001b[0m\u001b[0m\n",
            "\u001b[0;32m/usr/local/lib/python3.7/dist-packages/PIL/Image.py\u001b[0m in \u001b[0;36mfrombuffer\u001b[0;34m(mode, size, data, decoder_name, *args)\u001b[0m\n\u001b[1;32m   2668\u001b[0m             \u001b[0margs\u001b[0m \u001b[0;34m=\u001b[0m \u001b[0mmode\u001b[0m\u001b[0;34m,\u001b[0m \u001b[0;36m0\u001b[0m\u001b[0;34m,\u001b[0m \u001b[0;36m1\u001b[0m\u001b[0;34m\u001b[0m\u001b[0;34m\u001b[0m\u001b[0m\n\u001b[1;32m   2669\u001b[0m         \u001b[0;32mif\u001b[0m \u001b[0margs\u001b[0m\u001b[0;34m[\u001b[0m\u001b[0;36m0\u001b[0m\u001b[0;34m]\u001b[0m \u001b[0;32min\u001b[0m \u001b[0m_MAPMODES\u001b[0m\u001b[0;34m:\u001b[0m\u001b[0;34m\u001b[0m\u001b[0;34m\u001b[0m\u001b[0m\n\u001b[0;32m-> 2670\u001b[0;31m             \u001b[0mim\u001b[0m \u001b[0;34m=\u001b[0m \u001b[0mnew\u001b[0m\u001b[0;34m(\u001b[0m\u001b[0mmode\u001b[0m\u001b[0;34m,\u001b[0m \u001b[0;34m(\u001b[0m\u001b[0;36m1\u001b[0m\u001b[0;34m,\u001b[0m \u001b[0;36m1\u001b[0m\u001b[0;34m)\u001b[0m\u001b[0;34m)\u001b[0m\u001b[0;34m\u001b[0m\u001b[0;34m\u001b[0m\u001b[0m\n\u001b[0m\u001b[1;32m   2671\u001b[0m             \u001b[0mim\u001b[0m \u001b[0;34m=\u001b[0m \u001b[0mim\u001b[0m\u001b[0;34m.\u001b[0m\u001b[0m_new\u001b[0m\u001b[0;34m(\u001b[0m\u001b[0mcore\u001b[0m\u001b[0;34m.\u001b[0m\u001b[0mmap_buffer\u001b[0m\u001b[0;34m(\u001b[0m\u001b[0mdata\u001b[0m\u001b[0;34m,\u001b[0m \u001b[0msize\u001b[0m\u001b[0;34m,\u001b[0m \u001b[0mdecoder_name\u001b[0m\u001b[0;34m,\u001b[0m \u001b[0;36m0\u001b[0m\u001b[0;34m,\u001b[0m \u001b[0margs\u001b[0m\u001b[0;34m)\u001b[0m\u001b[0;34m)\u001b[0m\u001b[0;34m\u001b[0m\u001b[0;34m\u001b[0m\u001b[0m\n\u001b[1;32m   2672\u001b[0m             \u001b[0mim\u001b[0m\u001b[0;34m.\u001b[0m\u001b[0mreadonly\u001b[0m \u001b[0;34m=\u001b[0m \u001b[0;36m1\u001b[0m\u001b[0;34m\u001b[0m\u001b[0;34m\u001b[0m\u001b[0m\n",
            "\u001b[0;32m/usr/local/lib/python3.7/dist-packages/PIL/Image.py\u001b[0m in \u001b[0;36mnew\u001b[0;34m(mode, size, color)\u001b[0m\n\u001b[1;32m   2556\u001b[0m     \"\"\"\n\u001b[1;32m   2557\u001b[0m \u001b[0;34m\u001b[0m\u001b[0m\n\u001b[0;32m-> 2558\u001b[0;31m     \u001b[0m_check_size\u001b[0m\u001b[0;34m(\u001b[0m\u001b[0msize\u001b[0m\u001b[0;34m)\u001b[0m\u001b[0;34m\u001b[0m\u001b[0;34m\u001b[0m\u001b[0m\n\u001b[0m\u001b[1;32m   2559\u001b[0m \u001b[0;34m\u001b[0m\u001b[0m\n\u001b[1;32m   2560\u001b[0m     \u001b[0;32mif\u001b[0m \u001b[0mcolor\u001b[0m \u001b[0;32mis\u001b[0m \u001b[0;32mNone\u001b[0m\u001b[0;34m:\u001b[0m\u001b[0;34m\u001b[0m\u001b[0;34m\u001b[0m\u001b[0m\n",
            "\u001b[0;31mKeyboardInterrupt\u001b[0m: "
          ]
        }
      ]
    },
    {
      "cell_type": "markdown",
      "metadata": {
        "id": "9rWIl8TjoCJz"
      },
      "source": [
        "KFolds Cross Validation With LSTM"
      ]
    },
    {
      "cell_type": "code",
      "metadata": {
        "colab": {
          "background_save": true,
          "base_uri": "https://localhost:8080/"
        },
        "id": "cUgUlI-noqsp",
        "outputId": "27d8f865-1eca-41d9-e572-52704aead3c1"
      },
      "source": [
        "# Concatenate two datasets\n",
        "datasetList = [train_set, test_set]\n",
        "dataset_concated = torch.utils.data.ConcatDataset(datasetList)\n",
        "\n",
        "# Use KFold in sklearn to distribute data\n",
        "kfold = KFold(n_splits = K_FOLDS, shuffle = True)\n",
        "train_acc_list2 = []\n",
        "eval_acc_list2 = []\n",
        "\n",
        "for fold, (train_ids, test_ids) in enumerate(kfold.split(dataset_concated)):\n",
        "    print(f'THE {fold}th FOLD')\n",
        "    print('------------------------------------------------------------------')\n",
        "\n",
        "\n",
        "    train_subsampler = torch.utils.data.SubsetRandomSampler(train_ids)\n",
        "    test_subsampler = torch.utils.data.SubsetRandomSampler(test_ids)\n",
        "\n",
        "\n",
        "    train_loader = torch.utils.data.DataLoader(dataset_concated, batch_size = BATCH_SIZE, \n",
        "                                               sampler = train_subsampler, drop_last=True)\n",
        "    test_loader = torch.utils.data.DataLoader(dataset_concated, batch_size=BATCH_SIZE, \n",
        "                                              sampler = test_subsampler, drop_last = True)\n",
        "    \n",
        "    # Define model, optimizer and loss function\n",
        "    model = LSTM(N_X, N_H, BATCH_SIZE).to(device)\n",
        "    loss_func = nn.CrossEntropyLoss()\n",
        "    optimizer = optim.Adam(model.parameters(), lr=LR)\n",
        "\n",
        "    # Training the model and output Accuracy\n",
        "    trainAcc, evalAcc, Y2, Y_pred2 = train_model(model, loss_func, optimizer, N_EPOCH, train_loader, test_loader)\n",
        "\n",
        "    # keep track of prediction accuracies\n",
        "    train_acc_list2.append(trainAcc)\n",
        "    eval_acc_list2.append(evalAcc)\n",
        "    print('\\n\\n')"
      ],
      "execution_count": null,
      "outputs": [
        {
          "output_type": "stream",
          "text": [
            "THE 0th FOLD\n",
            "------------------------------------------------------------------\n",
            "13952\n",
            "Epoch:  0 | Loss: 0.7283 | Train Accuracy: 73.68 | Evaluation Accuracy: 82.26\n",
            "13952\n",
            "Epoch:  1 | Loss: 0.4369 | Train Accuracy: 84.36 | Evaluation Accuracy: 85.16\n",
            "13952\n",
            "Epoch:  2 | Loss: 0.3852 | Train Accuracy: 86.26 | Evaluation Accuracy: 86.82\n",
            "13952\n",
            "Epoch:  3 | Loss: 0.3548 | Train Accuracy: 87.20 | Evaluation Accuracy: 87.69\n",
            "13952\n",
            "Epoch:  4 | Loss: 0.3339 | Train Accuracy: 87.98 | Evaluation Accuracy: 87.85\n",
            "13952\n",
            "Epoch:  5 | Loss: 0.3183 | Train Accuracy: 88.56 | Evaluation Accuracy: 88.72\n",
            "13952\n",
            "Epoch:  6 | Loss: 0.3046 | Train Accuracy: 88.86 | Evaluation Accuracy: 88.59\n",
            "13952\n",
            "Epoch:  7 | Loss: 0.2965 | Train Accuracy: 89.18 | Evaluation Accuracy: 89.00\n",
            "13952\n",
            "Epoch:  8 | Loss: 0.2869 | Train Accuracy: 89.61 | Evaluation Accuracy: 89.52\n",
            "13952\n",
            "Epoch:  9 | Loss: 0.2777 | Train Accuracy: 89.88 | Evaluation Accuracy: 88.62\n",
            "13952\n",
            "Epoch:  10 | Loss: 0.2719 | Train Accuracy: 89.98 | Evaluation Accuracy: 89.21\n",
            "13952\n",
            "Epoch:  11 | Loss: 0.2633 | Train Accuracy: 90.34 | Evaluation Accuracy: 89.58\n",
            "13952\n",
            "Epoch:  12 | Loss: 0.2585 | Train Accuracy: 90.54 | Evaluation Accuracy: 89.76\n",
            "13952\n",
            "Epoch:  13 | Loss: 0.2535 | Train Accuracy: 90.67 | Evaluation Accuracy: 89.68\n",
            "13952\n",
            "Epoch:  14 | Loss: 0.2454 | Train Accuracy: 91.08 | Evaluation Accuracy: 89.87\n",
            "13952\n",
            "Epoch:  15 | Loss: 0.2425 | Train Accuracy: 91.12 | Evaluation Accuracy: 89.55\n",
            "13952\n",
            "Epoch:  16 | Loss: 0.2358 | Train Accuracy: 91.39 | Evaluation Accuracy: 90.11\n",
            "13952\n",
            "Epoch:  17 | Loss: 0.2299 | Train Accuracy: 91.53 | Evaluation Accuracy: 90.01\n",
            "13952\n",
            "Epoch:  18 | Loss: 0.2263 | Train Accuracy: 91.73 | Evaluation Accuracy: 90.21\n",
            "13952\n",
            "Epoch:  19 | Loss: 0.2218 | Train Accuracy: 91.78 | Evaluation Accuracy: 89.85\n",
            "\n",
            "\n",
            "\n",
            "THE 1th FOLD\n",
            "------------------------------------------------------------------\n",
            "13952\n",
            "Epoch:  0 | Loss: 0.7382 | Train Accuracy: 73.52 | Evaluation Accuracy: 82.81\n",
            "13952\n",
            "Epoch:  1 | Loss: 0.4342 | Train Accuracy: 84.56 | Evaluation Accuracy: 85.45\n",
            "13952\n",
            "Epoch:  2 | Loss: 0.3842 | Train Accuracy: 86.25 | Evaluation Accuracy: 86.41\n",
            "13952\n",
            "Epoch:  3 | Loss: 0.3545 | Train Accuracy: 87.25 | Evaluation Accuracy: 87.70\n",
            "13952\n",
            "Epoch:  4 | Loss: 0.3331 | Train Accuracy: 87.90 | Evaluation Accuracy: 88.16\n",
            "13952\n",
            "Epoch:  5 | Loss: 0.3184 | Train Accuracy: 88.37 | Evaluation Accuracy: 88.54\n",
            "13952\n",
            "Epoch:  6 | Loss: 0.3066 | Train Accuracy: 88.73 | Evaluation Accuracy: 88.16\n",
            "13952\n",
            "Epoch:  7 | Loss: 0.2943 | Train Accuracy: 89.23 | Evaluation Accuracy: 88.44\n",
            "13952\n",
            "Epoch:  8 | Loss: 0.2865 | Train Accuracy: 89.62 | Evaluation Accuracy: 88.77\n",
            "13952\n",
            "Epoch:  9 | Loss: 0.2762 | Train Accuracy: 90.01 | Evaluation Accuracy: 89.08\n",
            "13952\n",
            "Epoch:  10 | Loss: 0.2707 | Train Accuracy: 90.17 | Evaluation Accuracy: 89.21\n",
            "13952\n",
            "Epoch:  11 | Loss: 0.2629 | Train Accuracy: 90.41 | Evaluation Accuracy: 89.77\n",
            "13952\n",
            "Epoch:  12 | Loss: 0.2558 | Train Accuracy: 90.65 | Evaluation Accuracy: 89.27\n",
            "13952\n",
            "Epoch:  13 | Loss: 0.2478 | Train Accuracy: 91.07 | Evaluation Accuracy: 89.49\n",
            "13952\n",
            "Epoch:  14 | Loss: 0.2420 | Train Accuracy: 91.18 | Evaluation Accuracy: 89.80\n",
            "13952\n",
            "Epoch:  15 | Loss: 0.2388 | Train Accuracy: 91.37 | Evaluation Accuracy: 89.90\n",
            "13952\n",
            "Epoch:  16 | Loss: 0.2318 | Train Accuracy: 91.56 | Evaluation Accuracy: 89.93\n",
            "13952\n",
            "Epoch:  17 | Loss: 0.2266 | Train Accuracy: 91.77 | Evaluation Accuracy: 90.03\n",
            "13952\n",
            "Epoch:  18 | Loss: 0.2233 | Train Accuracy: 91.79 | Evaluation Accuracy: 90.35\n",
            "13952\n",
            "Epoch:  19 | Loss: 0.2177 | Train Accuracy: 92.09 | Evaluation Accuracy: 90.18\n",
            "\n",
            "\n",
            "\n",
            "THE 2th FOLD\n",
            "------------------------------------------------------------------\n",
            "13952\n",
            "Epoch:  0 | Loss: 0.7320 | Train Accuracy: 73.86 | Evaluation Accuracy: 84.11\n",
            "13952\n",
            "Epoch:  1 | Loss: 0.4409 | Train Accuracy: 84.46 | Evaluation Accuracy: 86.29\n",
            "13952\n",
            "Epoch:  2 | Loss: 0.3864 | Train Accuracy: 85.98 | Evaluation Accuracy: 87.31\n",
            "13952\n",
            "Epoch:  3 | Loss: 0.3571 | Train Accuracy: 86.94 | Evaluation Accuracy: 87.83\n",
            "13952\n",
            "Epoch:  4 | Loss: 0.3363 | Train Accuracy: 87.93 | Evaluation Accuracy: 88.00\n",
            "13952\n",
            "Epoch:  5 | Loss: 0.3224 | Train Accuracy: 88.26 | Evaluation Accuracy: 88.95\n",
            "13952\n",
            "Epoch:  6 | Loss: 0.3050 | Train Accuracy: 88.88 | Evaluation Accuracy: 89.39\n",
            "13952\n",
            "Epoch:  7 | Loss: 0.2944 | Train Accuracy: 89.18 | Evaluation Accuracy: 89.74\n",
            "13952\n",
            "Epoch:  8 | Loss: 0.2841 | Train Accuracy: 89.62 | Evaluation Accuracy: 89.75\n",
            "13952\n",
            "Epoch:  9 | Loss: 0.2745 | Train Accuracy: 89.93 | Evaluation Accuracy: 89.64\n",
            "13952\n",
            "Epoch:  10 | Loss: 0.2669 | Train Accuracy: 90.30 | Evaluation Accuracy: 89.92\n",
            "13952\n",
            "Epoch:  11 | Loss: 0.2597 | Train Accuracy: 90.55 | Evaluation Accuracy: 90.00\n",
            "13952\n",
            "Epoch:  12 | Loss: 0.2512 | Train Accuracy: 90.74 | Evaluation Accuracy: 90.26\n",
            "13952\n",
            "Epoch:  13 | Loss: 0.2456 | Train Accuracy: 90.93 | Evaluation Accuracy: 89.81\n",
            "13952\n",
            "Epoch:  14 | Loss: 0.2406 | Train Accuracy: 91.21 | Evaluation Accuracy: 90.19\n",
            "13952\n",
            "Epoch:  15 | Loss: 0.2354 | Train Accuracy: 91.41 | Evaluation Accuracy: 90.47\n",
            "13952\n",
            "Epoch:  16 | Loss: 0.2290 | Train Accuracy: 91.65 | Evaluation Accuracy: 90.21\n",
            "13952\n",
            "Epoch:  17 | Loss: 0.2238 | Train Accuracy: 91.83 | Evaluation Accuracy: 90.45\n",
            "13952\n",
            "Epoch:  18 | Loss: 0.2223 | Train Accuracy: 91.89 | Evaluation Accuracy: 90.10\n",
            "13952\n",
            "Epoch:  19 | Loss: 0.2156 | Train Accuracy: 92.12 | Evaluation Accuracy: 90.19\n",
            "\n",
            "\n",
            "\n",
            "THE 3th FOLD\n",
            "------------------------------------------------------------------\n",
            "13952\n",
            "Epoch:  0 | Loss: 0.7340 | Train Accuracy: 73.35 | Evaluation Accuracy: 82.52\n",
            "13952\n",
            "Epoch:  1 | Loss: 0.4413 | Train Accuracy: 84.26 | Evaluation Accuracy: 85.46\n",
            "13952\n",
            "Epoch:  2 | Loss: 0.3863 | Train Accuracy: 86.28 | Evaluation Accuracy: 86.02\n",
            "13952\n",
            "Epoch:  3 | Loss: 0.3578 | Train Accuracy: 87.06 | Evaluation Accuracy: 87.44\n",
            "13952\n",
            "Epoch:  4 | Loss: 0.3374 | Train Accuracy: 87.81 | Evaluation Accuracy: 87.58\n",
            "13952\n",
            "Epoch:  5 | Loss: 0.3204 | Train Accuracy: 88.46 | Evaluation Accuracy: 88.62\n",
            "13952\n",
            "Epoch:  6 | Loss: 0.3098 | Train Accuracy: 88.83 | Evaluation Accuracy: 88.59\n",
            "13952\n",
            "Epoch:  7 | Loss: 0.2972 | Train Accuracy: 89.28 | Evaluation Accuracy: 88.31\n",
            "13952\n",
            "Epoch:  8 | Loss: 0.2876 | Train Accuracy: 89.61 | Evaluation Accuracy: 88.89\n",
            "13952\n",
            "Epoch:  9 | Loss: 0.2792 | Train Accuracy: 89.88 | Evaluation Accuracy: 88.83\n",
            "13952\n",
            "Epoch:  10 | Loss: 0.2716 | Train Accuracy: 90.08 | Evaluation Accuracy: 89.13\n",
            "13952\n",
            "Epoch:  11 | Loss: 0.2645 | Train Accuracy: 90.29 | Evaluation Accuracy: 88.85\n",
            "13952\n",
            "Epoch:  12 | Loss: 0.2578 | Train Accuracy: 90.67 | Evaluation Accuracy: 89.30\n",
            "13952\n",
            "Epoch:  13 | Loss: 0.2507 | Train Accuracy: 90.97 | Evaluation Accuracy: 89.22\n",
            "13952\n",
            "Epoch:  14 | Loss: 0.2438 | Train Accuracy: 91.21 | Evaluation Accuracy: 89.19\n",
            "13952\n",
            "Epoch:  15 | Loss: 0.2387 | Train Accuracy: 91.24 | Evaluation Accuracy: 90.05\n",
            "13952\n",
            "Epoch:  16 | Loss: 0.2336 | Train Accuracy: 91.56 | Evaluation Accuracy: 89.93\n",
            "13952\n",
            "Epoch:  17 | Loss: 0.2291 | Train Accuracy: 91.65 | Evaluation Accuracy: 89.84\n",
            "13952\n",
            "Epoch:  18 | Loss: 0.2243 | Train Accuracy: 91.77 | Evaluation Accuracy: 89.22\n",
            "13952\n",
            "Epoch:  19 | Loss: 0.2219 | Train Accuracy: 91.92 | Evaluation Accuracy: 89.83\n",
            "\n",
            "\n",
            "\n",
            "THE 4th FOLD\n",
            "------------------------------------------------------------------\n",
            "13952\n",
            "Epoch:  0 | Loss: 0.7328 | Train Accuracy: 73.66 | Evaluation Accuracy: 83.50\n",
            "13952\n",
            "Epoch:  1 | Loss: 0.4320 | Train Accuracy: 84.62 | Evaluation Accuracy: 85.85\n",
            "13952\n",
            "Epoch:  2 | Loss: 0.3793 | Train Accuracy: 86.37 | Evaluation Accuracy: 86.30\n",
            "13952\n",
            "Epoch:  3 | Loss: 0.3491 | Train Accuracy: 87.39 | Evaluation Accuracy: 87.53\n",
            "13952\n",
            "Epoch:  4 | Loss: 0.3317 | Train Accuracy: 87.96 | Evaluation Accuracy: 86.82\n",
            "13952\n",
            "Epoch:  5 | Loss: 0.3160 | Train Accuracy: 88.63 | Evaluation Accuracy: 88.00\n",
            "13952\n",
            "Epoch:  6 | Loss: 0.3034 | Train Accuracy: 88.86 | Evaluation Accuracy: 88.36\n",
            "13952\n",
            "Epoch:  7 | Loss: 0.2923 | Train Accuracy: 89.40 | Evaluation Accuracy: 89.15\n",
            "13952\n",
            "Epoch:  8 | Loss: 0.2823 | Train Accuracy: 89.84 | Evaluation Accuracy: 88.82\n",
            "13952\n",
            "Epoch:  9 | Loss: 0.2778 | Train Accuracy: 89.99 | Evaluation Accuracy: 89.16\n",
            "13952\n",
            "Epoch:  10 | Loss: 0.2676 | Train Accuracy: 90.30 | Evaluation Accuracy: 89.40\n",
            "13952\n",
            "Epoch:  11 | Loss: 0.2593 | Train Accuracy: 90.64 | Evaluation Accuracy: 89.67\n",
            "13952\n",
            "Epoch:  12 | Loss: 0.2544 | Train Accuracy: 90.68 | Evaluation Accuracy: 89.39\n",
            "13952\n",
            "Epoch:  13 | Loss: 0.2515 | Train Accuracy: 90.91 | Evaluation Accuracy: 89.29\n",
            "13952\n",
            "Epoch:  14 | Loss: 0.2427 | Train Accuracy: 91.25 | Evaluation Accuracy: 89.75\n",
            "13952\n",
            "Epoch:  15 | Loss: 0.2360 | Train Accuracy: 91.45 | Evaluation Accuracy: 89.34\n",
            "13952\n",
            "Epoch:  16 | Loss: 0.2323 | Train Accuracy: 91.60 | Evaluation Accuracy: 89.69\n",
            "13952\n",
            "Epoch:  17 | Loss: 0.2264 | Train Accuracy: 91.75 | Evaluation Accuracy: 89.54\n",
            "13952\n",
            "Epoch:  18 | Loss: 0.2227 | Train Accuracy: 91.90 | Evaluation Accuracy: 88.99\n",
            "13952\n",
            "Epoch:  19 | Loss: 0.2182 | Train Accuracy: 92.11 | Evaluation Accuracy: 89.49\n",
            "\n",
            "\n",
            "\n"
          ],
          "name": "stdout"
        }
      ]
    },
    {
      "cell_type": "code",
      "metadata": {
        "id": "qFNfkJi5iw2O"
      },
      "source": [
        "import pickle\n",
        "\n",
        "# Save result\n",
        "with open('train_acc_list.pkl', 'wb') as f:\n",
        "    pickle.dump(train_acc_list, f)\n",
        "\n",
        "with open('eval_acc_list.pkl', 'wb') as f:\n",
        "    pickle.dump(train_acc_list, f)"
      ],
      "execution_count": null,
      "outputs": []
    },
    {
      "cell_type": "code",
      "metadata": {
        "id": "hjXhMM4SjCS4"
      },
      "source": [
        "#save the LSTM model using pikle \n",
        "filename = 'LSTM_model.sav'\n",
        "with open('LSTM_model.sav', 'wb') as f:\n",
        "    pickle.dump(model,f)\n"
      ],
      "execution_count": null,
      "outputs": []
    },
    {
      "cell_type": "code",
      "metadata": {
        "id": "QUHu_2nHppnM"
      },
      "source": [
        "torch.cuda.get_device_name(0)"
      ],
      "execution_count": null,
      "outputs": []
    },
    {
      "cell_type": "code",
      "metadata": {
        "id": "NJD3IMmCMOxF"
      },
      "source": [
        "eval_acc_list = np.array(eval_acc_list)\n",
        "train_acc_list = np.array(train_acc_list)\n",
        "\n",
        "\n",
        "eval_mean = np.mean(eval_acc_list, axis = 0)\n",
        "eval_std = np.std(eval_acc_list, axis = 0)\n",
        "train_mean = np.mean(train_acc_list, axis = 0)\n",
        "train_std = np.std(train_acc_list, axis = 0)\n",
        "\n",
        "k_list = range(1,21)\n",
        "print(k_list)\n",
        "\n",
        "plt.plot(k_list, train_mean, label='Rnn_Train', linewidth = 2)\n",
        "plt.errorbar(k_list, eval_mean, eval_std, label='Validation', linewidth = 2)\n",
        "\n",
        "plt.xticks(range(0,22, 2))\n",
        "plt.legend()\n",
        "plt.xlabel('Number of Epoch')\n",
        "plt.ylabel('Accuracy')\n",
        "\n",
        "plt.savefig('Epoch_Accuracy_Chart.jpg', format = 'JPEG')"
      ],
      "execution_count": null,
      "outputs": []
    },
    {
      "cell_type": "code",
      "metadata": {
        "id": "JOvXcXZGqYbu"
      },
      "source": [
        "eval_acc_list = np.array(eval_acc_list)\n",
        "train_acc_list = np.array(train_acc_list)\n",
        "\n",
        "\n",
        "eval_mean = np.mean(eval_acc_list, axis = 0)\n",
        "eval_std = np.std(eval_acc_list, axis = 0)\n",
        "train_mean = np.mean(train_acc_list, axis = 0)\n",
        "train_std = np.std(train_acc_list, axis = 0)\n",
        "\n",
        "k_list = range(1,21)\n",
        "print(k_list)\n",
        "\n",
        "plt.plot(k_list, train_mean, label='Train', linewidth = 2)\n",
        "plt.errorbar(k_list, eval_mean, eval_std, label='Validation', linewidth = 2)\n",
        "plt.xticks(range(0,22, 2))\n",
        "plt.legend()\n",
        "plt.xlabel('Number of Epoch')\n",
        "plt.ylabel('Accuracy')\n",
        "\n",
        "plt.savefig('Epoch_Accuracy_Chart.jpg', format = 'JPEG')"
      ],
      "execution_count": null,
      "outputs": []
    },
    {
      "cell_type": "code",
      "metadata": {
        "id": "uUlDVvGhrieU"
      },
      "source": [
        "eval_acc_list = np.array(eval_acc_list)\n",
        "train_acc_list = np.array(train_acc_list)\n",
        "eval_acc_list2 = np.array(eval_acc_list2)\n",
        "train_acc_list2 = np.array(train_acc_list2)\n",
        "val_acc_list = np.array(eval_acc_list)\n",
        "train_acc_list = np.array(train_acc_list)\n",
        "\n",
        "\n",
        "eval_mean = np.mean(eval_acc_list, axis = 0)\n",
        "eval_std = np.std(eval_acc_list, axis = 0)\n",
        "train_mean = np.mean(train_acc_list, axis = 0)\n",
        "train_std = np.std(train_acc_list, axis = 0)\n",
        "val_acc_list2 = np.array(eval_acc_list2)\n",
        "train_acc_list2 = np.array(train_acc_list2)\n",
        "\n",
        "\n",
        "eval_mean2 = np.mean(eval_acc_list2, axis = 0)\n",
        "eval_std2 = np.std(eval_acc_list2, axis = 0)\n",
        "train_mean2 = np.mean(train_acc_list2, axis = 0)\n",
        "train_std2 = np.std(train_acc_list2, axis = 0)\n",
        "\n",
        "k_list = range(1,21)\n",
        "print(k_list)\n",
        "plt.figure(dpi=1000)\n",
        "plt.plot(k_list, train_mean, label='Train RNN', linewidth = 2)\n",
        "plt.errorbar(k_list, eval_mean, eval_std, label='Validation RNN', linewidth = 2)\n",
        "plt.xticks(range(0,22, 2))\n",
        "plt.legend()\n",
        "\n",
        "plt.plot(k_list, train_mean2, label='Train LSTM', linewidth = 2)\n",
        "plt.errorbar(k_list, eval_mean2, eval_std2, label='Validation LSTM', linewidth = 2)\n",
        "plt.xticks(range(0,22, 2))\n",
        "plt.legend()\n",
        "\n",
        "plt.xlabel('Number of Epoch')\n",
        "plt.ylabel('Accuracy')\n",
        "plt.savefig('Epoch_Accuracy_Chart_RNN_VS_LSTM.jpg', format = 'JPEG', dpi = 500)\n",
        "\n",
        "\n",
        "\n"
      ],
      "execution_count": null,
      "outputs": []
    },
    {
      "cell_type": "markdown",
      "metadata": {
        "id": "8Yayf0cYqPZT"
      },
      "source": [
        "### Evaluation Metrics"
      ]
    },
    {
      "cell_type": "code",
      "metadata": {
        "id": "LwmBdklGtzmj"
      },
      "source": [
        "def plot_confusion_heatmap(predicts, labels, dataset, name):\n",
        "    conf_mat = confusion_matrix(labels, predicts)\n",
        "\n",
        "    fig, ax = plt.subplots(figsize=(10, 9), dpi=600)\n",
        "    ax = sns.heatmap(\n",
        "        conf_mat, \n",
        "        xticklabels=dataset.classes, \n",
        "        yticklabels=dataset.classes, \n",
        "        annot=True, \n",
        "        cmap=\"YlGnBu\", \n",
        "        fmt='d', \n",
        "        ax=ax, \n",
        "        linewidths=.8\n",
        "    )\n",
        "\n",
        "    plt.draw()\n",
        "\n",
        "    fig.savefig('heat_map_'+str(name)+'.png')\n",
        "\n",
        "    return conf_mat"
      ],
      "execution_count": null,
      "outputs": []
    },
    {
      "cell_type": "code",
      "metadata": {
        "id": "VWKbw29I3De1"
      },
      "source": [
        "def cal_matrics(predicts, labels):\n",
        "\n",
        "    f1 = f1_score(labels, predicts, average='macro')\n",
        "    precision = precision_score(labels, predicts, average='macro')\n",
        "    recall = recall_score(labels, predicts, average='macro')\n",
        "\n",
        "    return f1, precision, recall"
      ],
      "execution_count": null,
      "outputs": []
    },
    {
      "cell_type": "code",
      "metadata": {
        "id": "U1_b_IxLDikr"
      },
      "source": [
        "model = ImageRNN(N_X, N_H, BATCH_SIZE).to(device)\n",
        "loss_func = nn.CrossEntropyLoss()\n",
        "optimizer = optim.Adam(model.parameters(), lr=LR)\n",
        "\n",
        "# Training the model and output Accuracy\n",
        "trainAcc, evalAcc, Y3, Y_pred3 = train_model(model, loss_func, optimizer, 10, train_loader, test_loader)"
      ],
      "execution_count": null,
      "outputs": []
    },
    {
      "cell_type": "code",
      "metadata": {
        "id": "1VNOz0AeopbD"
      },
      "source": [
        "# Y_pred3_concat = torch.cat(Y_pred3).tolist()\n",
        "# Y_pred3_concat = torch.cat(Y_pred3).tolist()\n",
        "print(len(Y_pred3))\n",
        "print(len(Y3))\n",
        "\n",
        "plot_confusion_heatmap(Y_pred3, Y3, test_set)"
      ],
      "execution_count": null,
      "outputs": []
    },
    {
      "cell_type": "code",
      "metadata": {
        "id": "_xk-KWjzHzio"
      },
      "source": [
        "f1, precision, recall = cal_matrics(Y_pred3, Y3)\n",
        "print(\"f1 score = \" + str(f1))\n",
        "print(\"recall = \" + str(recall))\n",
        "print(\"precision = \" + str(precision))"
      ],
      "execution_count": null,
      "outputs": []
    },
    {
      "cell_type": "code",
      "metadata": {
        "id": "yPgOXItp3hRk"
      },
      "source": [
        "# Calculate LSTM metrices\n",
        "model = LSTM(N_X, N_H, BATCH_SIZE).to(device)\n",
        "loss_func = nn.CrossEntropyLoss()\n",
        "optimizer = optim.Adam(model.parameters(), lr=LR)\n",
        "\n",
        "# Training the model and output Accuracy\n",
        "trainAcc, evalAcc, Y4, Y_pred4 = train_model(model, loss_func, optimizer, 15, train_loader, test_loader)"
      ],
      "execution_count": null,
      "outputs": []
    },
    {
      "cell_type": "code",
      "metadata": {
        "id": "5wjPjzOJ4cHo"
      },
      "source": [
        "# LSTM confusion matrix\n",
        "plot_confusion_heatmap(Y_pred4, Y4, test_set, 'LSTM')"
      ],
      "execution_count": null,
      "outputs": []
    },
    {
      "cell_type": "code",
      "metadata": {
        "id": "MAw2EqAX4nPK"
      },
      "source": [
        "f1, precision, recall = cal_matrics(Y_pred4, Y4)\n",
        "print(\"f1 score = \" + str(f1))\n",
        "print(\"recall = \" + str(recall))\n",
        "print(\"precision = \" + str(precision))"
      ],
      "execution_count": null,
      "outputs": []
    },
    {
      "cell_type": "code",
      "metadata": {
        "id": "aKsJvSmc5A2Z"
      },
      "source": [
        ""
      ],
      "execution_count": null,
      "outputs": []
    }
  ]
}