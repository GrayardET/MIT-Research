{
  "nbformat": 4,
  "nbformat_minor": 0,
  "metadata": {
    "colab": {
      "name": "RNN-MIT.ipynb",
      "provenance": [],
      "collapsed_sections": []
    },
    "kernelspec": {
      "name": "python3",
      "display_name": "Python 3"
    },
    "language_info": {
      "name": "python"
    },
    "accelerator": "GPU"
  },
  "cells": [
    {
      "cell_type": "markdown",
      "metadata": {
        "id": "z58e4PJ_LP25"
      },
      "source": [
        "## RNN Model for Image Classification\n",
        "\n"
      ]
    },
    {
      "cell_type": "code",
      "metadata": {
        "colab": {
          "base_uri": "https://localhost:8080/"
        },
        "id": "lxJ_tl6So-Qa",
        "outputId": "76d98132-8fcf-4889-81ac-415e406a4c10"
      },
      "source": [
        "import numpy as np\n",
        "import pandas as pd\n",
        "#\n",
        "import matplotlib.pyplot as plt\n",
        "\n",
        "import tensorflow as tf\n",
        "import torch\n",
        "\n",
        "import torch.nn as nn\n",
        "import torch.nn.functional as F\n",
        "import torch.optim as optim\n",
        "\n",
        "import torchvision\n",
        "import torchvision.transforms as transforms\n",
        "\n",
        "import time\n",
        "import tqdm\n",
        "\n",
        "from sklearn.model_selection import KFold\n",
        "\n",
        "\n",
        "device = torch.device(\"cuda\" if torch.cuda.is_available() else \"cpu\")\n",
        "print(device)"
      ],
      "execution_count": null,
      "outputs": [
        {
          "output_type": "stream",
          "text": [
            "cuda\n"
          ],
          "name": "stdout"
        }
      ]
    },
    {
      "cell_type": "markdown",
      "metadata": {
        "id": "xLqVZB9sHETd"
      },
      "source": [
        "### Constants"
      ]
    },
    {
      "cell_type": "code",
      "metadata": {
        "id": "qgmljQ6oeD-u"
      },
      "source": [
        "BATCH_SIZE = 64\n",
        "K_FOLDS = 5\n",
        "N_X = 28\n",
        "N_H = 100\n",
        "LR = 0.001\n",
        "N_EPOCH = 20"
      ],
      "execution_count": null,
      "outputs": []
    },
    {
      "cell_type": "code",
      "metadata": {
        "colab": {
          "base_uri": "https://localhost:8080/"
        },
        "id": "Emwtj6STCZbh",
        "outputId": "a62d9807-09db-450d-cb1e-82df50f35802"
      },
      "source": [
        "# Test GPU functionality\n",
        "tf.test.gpu_device_name()\n",
        "\n",
        "from tensorflow.python.client import device_lib\n",
        "device_lib.list_local_devices()"
      ],
      "execution_count": null,
      "outputs": [
        {
          "output_type": "execute_result",
          "data": {
            "text/plain": [
              "[name: \"/device:CPU:0\"\n",
              " device_type: \"CPU\"\n",
              " memory_limit: 268435456\n",
              " locality {\n",
              " }\n",
              " incarnation: 14544905244620279751, name: \"/device:GPU:0\"\n",
              " device_type: \"GPU\"\n",
              " memory_limit: 16183459840\n",
              " locality {\n",
              "   bus_id: 1\n",
              "   links {\n",
              "   }\n",
              " }\n",
              " incarnation: 5689745042561912962\n",
              " physical_device_desc: \"device: 0, name: Tesla P100-PCIE-16GB, pci bus id: 0000:00:04.0, compute capability: 6.0\"]"
            ]
          },
          "metadata": {
            "tags": []
          },
          "execution_count": 3
        }
      ]
    },
    {
      "cell_type": "code",
      "metadata": {
        "id": "-9dwpW_rDAHe"
      },
      "source": [
        "# list all transformations\n",
        "transform = transforms.Compose(\n",
        "    [transforms.ToTensor(), transforms.Normalize(0.286041, 0.353024)])"
      ],
      "execution_count": null,
      "outputs": []
    },
    {
      "cell_type": "markdown",
      "metadata": {
        "id": "aeNhSJJ9NNDa"
      },
      "source": [
        "### Data Loading: Fashion_Mnist"
      ]
    },
    {
      "cell_type": "code",
      "metadata": {
        "id": "erYx4_iLLsEL",
        "colab": {
          "base_uri": "https://localhost:8080/"
        },
        "outputId": "84261408-f667-485a-8ee2-d97d13e5107b"
      },
      "source": [
        "# Loading Fashion Mnist dataset from torchVision and downloads it to local machine\n",
        "train_set = torchvision.datasets.FashionMNIST(root = './data', train = True, download = True, transform = transform)\n",
        "test_set = torchvision.datasets.FashionMNIST(root = './data', train = False, transform = transform)\n",
        "\n",
        "# To make sure that we don't run into dimension conflicts, drop the last incomplete batch\n",
        "# train_loader = torch.utils.data.DataLoader(train_set, batch_size = 64, shuffle = True, num_workers = 2, drop_last = True)\n",
        "# test_loader = torch.utils.data.DataLoader(test_set, batch_size = 64, shuffle = True, num_workers = 2, drop_last = True)"
      ],
      "execution_count": null,
      "outputs": [
        {
          "output_type": "stream",
          "text": [
            "/usr/local/lib/python3.7/dist-packages/torchvision/datasets/mnist.py:498: UserWarning: The given NumPy array is not writeable, and PyTorch does not support non-writeable tensors. This means you can write to the underlying (supposedly non-writeable) NumPy array using the tensor. You may want to copy the array to protect its data or make it writeable before converting it to a tensor. This type of warning will be suppressed for the rest of this program. (Triggered internally at  /pytorch/torch/csrc/utils/tensor_numpy.cpp:180.)\n",
            "  return torch.from_numpy(parsed.astype(m[2], copy=False)).view(*s)\n"
          ],
          "name": "stderr"
        }
      ]
    },
    {
      "cell_type": "markdown",
      "metadata": {
        "id": "aEegZmXdfMmi"
      },
      "source": [
        "### Construct Models"
      ]
    },
    {
      "cell_type": "code",
      "metadata": {
        "id": "XcH5NoXbtQQq"
      },
      "source": [
        "# Model for many to one basic RNN with one layer only.\n",
        "class ImageRNN(nn.Module):\n",
        "    def __init__(self, n_x, n_h, batch_size):\n",
        "        super(ImageRNN, self).__init__()\n",
        "        \n",
        "        self.n_h = n_h\n",
        "        self.n_x = n_x\n",
        "\n",
        "        # batch_size is in x.shape(0), so we set bach_first = True\n",
        "        self.rnn = nn.RNN(self.n_x, self.n_h, batch_first = True) \n",
        "        \n",
        "        self.outputLayer = nn.Linear(self.n_h, 10)\n",
        "        \n",
        "    def forward(self, X):\n",
        "        \n",
        "        self.batch_size = X.size(0)\n",
        "        self.hidden = torch.zeros(1, 64, self.n_h).to(device)\n",
        "        hidden_set, self.hidden = self.rnn(X, self.hidden)      \n",
        "        out = self.outputLayer(self.hidden)\n",
        "        \n",
        "        return out.view(-1, 10) # batch_size X n_output"
      ],
      "execution_count": null,
      "outputs": []
    },
    {
      "cell_type": "code",
      "metadata": {
        "id": "7XQ_EAyCvsH0"
      },
      "source": [
        "class LSTM(nn.Module):\n",
        "    def __init__(self, n_x, n_h, batch_size):\n",
        "        super(ImageRNN, self).__init__()\n",
        "        \n",
        "        self.n_h = n_h\n",
        "        self.n_x = n_x\n",
        "\n",
        "        # batch_size is in x.shape(0), so we set bach_first = True\n",
        "        self.rnn = nn.RNN(self.n_x, self.n_h, batch_first = True) \n",
        "        \n",
        "        self.outputLayer = nn.Linear(self.n_h, 10)\n",
        "        \n",
        "    def forward(self, X):\n",
        "        \n",
        "        self.batch_size = X.size(0)\n",
        "        self.hidden = torch.zeros(1, 64, self.n_h).to(device)\n",
        "        hidden_set, self.hidden = self.rnn(X, self.hidden)      \n",
        "        out = self.outputLayer(self.hidden)\n",
        "        \n",
        "        return out.view(-1, 10) # batch_size X n_output"
      ],
      "execution_count": null,
      "outputs": []
    },
    {
      "cell_type": "markdown",
      "metadata": {
        "id": "WU6qWxiVfCc4"
      },
      "source": [
        "### Util functions"
      ]
    },
    {
      "cell_type": "code",
      "metadata": {
        "id": "hPLtngjNjxCG"
      },
      "source": [
        "# function that computes the accuracy of a batch\n",
        "def acc_batch(y_hat, target, batch_size):\n",
        "    ''' Obtain accuracy for training round '''\n",
        "    # assign index of the max prediction value as it's class, with axis = 1\n",
        "    y_category = torch.argmax(y_hat, dim = 1)\n",
        "    corrects = (y_category == target.data).sum()\n",
        "    acc= 100.0 * corrects/batch_size\n",
        "    return acc.item()\n",
        "\n",
        "\n",
        "def total_acc(loader, model, batch_size):\n",
        "    with torch.no_grad():\n",
        "        acc = 0.0\n",
        "        for j, (x, y) in enumerate(loader):\n",
        "            x = x.view(-1, 28, 28).to(device)\n",
        "            y = y.to(device)\n",
        "            y_hat = model(x)\n",
        "            acc += acc_batch(y_hat, y, BATCH_SIZE)\n",
        "        \n",
        "        return acc/j\n",
        "\n",
        "\n",
        "def visualize_batch(t):\n",
        "# Visualize dataset:\n",
        "# make_grid function takes in tensor of shape (B X C X H X W)\n",
        "# with B being the batch size and C being the num of channels\n",
        "# C = 1 since our image is gray scale\n",
        "# Functions takes a tensor of shape (B X C X H X W) and shows the whole batch of image\n",
        "    t = torchvision.utils.make_grid(t)\n",
        "\n",
        "    # permute tensor for plotting\n",
        "    images_reshaped = t.permute(1,2,0)\n",
        "\n",
        "    plt.figure(figsize = (7,7))\n",
        "    plt.imshow(images_reshaped)"
      ],
      "execution_count": null,
      "outputs": []
    },
    {
      "cell_type": "code",
      "metadata": {
        "id": "6B-ikSFqMTY3"
      },
      "source": [
        "def train_model(model, loss_func, optimizer, n_epoch, train_loader, test_loader):\n",
        "    train_acc_list = []\n",
        "    eval_acc_list = []\n",
        "    for epoch in range(N_EPOCH):  # loop over the dataset multiple times\n",
        "        train_running_loss = 0.0\n",
        "        train_acc = 0.0\n",
        "        model.train()\n",
        "        \n",
        "        # Train batches in each epoch\n",
        "        for i, (images, labels) in enumerate(train_loader):\n",
        "\n",
        "            # Reset Gradient in every iteration\n",
        "            optimizer.zero_grad()\n",
        "\n",
        "            images = images.view(-1, 28,28).to(device)\n",
        "            labels = labels.to(device)\n",
        "\n",
        "            # forward and backward propagation\n",
        "            outputs = model(images)\n",
        "            # computer loss and gradient\n",
        "            loss = loss_func(outputs, labels)\n",
        "            loss.backward()\n",
        "            # update parameters\n",
        "            optimizer.step()\n",
        "\n",
        "            train_running_loss += loss.detach().item()\n",
        "            train_acc += acc_batch(outputs, labels, BATCH_SIZE)\n",
        "\n",
        "        model.eval()\n",
        "\n",
        "        evaluation_acc = total_acc(test_loader, model, BATCH_SIZE)\n",
        "        train_acc_list.append(train_acc / i)\n",
        "        eval_acc_list.append(evaluation_acc)\n",
        "\n",
        "        print('Epoch:  %d | Loss: %.4f | Train Accuracy: %.2f | Evaluation Accuracy: %.2f' \n",
        "            %(epoch, train_running_loss / i, train_acc/i, evaluation_acc))\n",
        "\n",
        "    return train_acc_list, eval_acc_list   "
      ],
      "execution_count": null,
      "outputs": []
    },
    {
      "cell_type": "markdown",
      "metadata": {
        "id": "iFyxFSZ2Yxez"
      },
      "source": [
        "### Implement K-fold Validation"
      ]
    },
    {
      "cell_type": "code",
      "metadata": {
        "colab": {
          "base_uri": "https://localhost:8080/"
        },
        "id": "eNcItLTiYwj1",
        "outputId": "9ad11985-0aea-46dc-fca6-c7c2fd917600"
      },
      "source": [
        "# Concatenate two datasets\n",
        "datasetList = [train_set, test_set]\n",
        "dataset_concated = torch.utils.data.ConcatDataset(datasetList)\n",
        "\n",
        "# Use KFold in sklearn to distribute data\n",
        "kfold = KFold(n_splits = K_FOLDS, shuffle = True)\n",
        "train_acc_list = []\n",
        "eval_acc_list = []\n",
        "\n",
        "for fold, (train_ids, test_ids) in enumerate(kfold.split(dataset_concated)):\n",
        "    print(f'THE {fold}th FOLD')\n",
        "    print('------------------------------------------------------------------')\n",
        "\n",
        "\n",
        "    train_subsampler = torch.utils.data.SubsetRandomSampler(train_ids)\n",
        "    test_subsampler = torch.utils.data.SubsetRandomSampler(test_ids)\n",
        "\n",
        "\n",
        "    train_loader = torch.utils.data.DataLoader(dataset_concated, batch_size = BATCH_SIZE, \n",
        "                                               sampler = train_subsampler, drop_last=True)\n",
        "    test_loader = torch.utils.data.DataLoader(dataset_concated, batch_size=BATCH_SIZE, \n",
        "                                              sampler = test_subsampler, drop_last = True)\n",
        "    \n",
        "    # Define model, optimizer and loss function\n",
        "    model = ImageRNN(N_X, N_H, BATCH_SIZE).to(device)\n",
        "    loss_func = nn.CrossEntropyLoss()\n",
        "    optimizer = optim.Adam(model.parameters(), lr=LR)\n",
        "\n",
        "    # Training the model and output Accuracy\n",
        "    trainAcc, evalAcc = train_model(model, loss_func, optimizer, N_EPOCH, train_loader, test_loader)\n",
        "\n",
        "    # keep track of prediction accuracies\n",
        "    train_acc_list.append(trainAcc)\n",
        "    eval_acc_list.append(evalAcc)\n",
        "    print('\\n\\n')"
      ],
      "execution_count": null,
      "outputs": [
        {
          "output_type": "stream",
          "text": [
            "THE 0th FOLD\n",
            "------------------------------------------------------------------\n",
            "Epoch:  0 | Loss: 0.9196 | Train Accuracy: 65.18 | Evaluation Accuracy: 72.77\n",
            "Epoch:  1 | Loss: 0.6480 | Train Accuracy: 76.63 | Evaluation Accuracy: 78.67\n",
            "Epoch:  2 | Loss: 0.5768 | Train Accuracy: 79.61 | Evaluation Accuracy: 77.64\n",
            "Epoch:  3 | Loss: 0.5421 | Train Accuracy: 80.88 | Evaluation Accuracy: 80.90\n",
            "Epoch:  4 | Loss: 0.4979 | Train Accuracy: 82.37 | Evaluation Accuracy: 82.42\n",
            "Epoch:  5 | Loss: 0.4860 | Train Accuracy: 82.79 | Evaluation Accuracy: 80.95\n",
            "Epoch:  6 | Loss: 0.4717 | Train Accuracy: 83.30 | Evaluation Accuracy: 82.96\n",
            "Epoch:  7 | Loss: 0.4504 | Train Accuracy: 83.85 | Evaluation Accuracy: 83.58\n",
            "Epoch:  8 | Loss: 0.4450 | Train Accuracy: 84.08 | Evaluation Accuracy: 83.73\n",
            "Epoch:  9 | Loss: 0.4400 | Train Accuracy: 84.20 | Evaluation Accuracy: 83.70\n",
            "Epoch:  10 | Loss: 0.4528 | Train Accuracy: 83.89 | Evaluation Accuracy: 84.63\n",
            "Epoch:  11 | Loss: 0.4249 | Train Accuracy: 84.77 | Evaluation Accuracy: 84.13\n",
            "Epoch:  12 | Loss: 0.4238 | Train Accuracy: 84.74 | Evaluation Accuracy: 84.82\n",
            "Epoch:  13 | Loss: 0.4343 | Train Accuracy: 84.48 | Evaluation Accuracy: 84.38\n",
            "Epoch:  14 | Loss: 0.4268 | Train Accuracy: 84.62 | Evaluation Accuracy: 83.77\n",
            "Epoch:  15 | Loss: 0.4349 | Train Accuracy: 84.34 | Evaluation Accuracy: 84.03\n",
            "Epoch:  16 | Loss: 0.4069 | Train Accuracy: 85.29 | Evaluation Accuracy: 84.67\n",
            "Epoch:  17 | Loss: 0.4111 | Train Accuracy: 85.29 | Evaluation Accuracy: 84.16\n",
            "Epoch:  18 | Loss: 0.4040 | Train Accuracy: 85.40 | Evaluation Accuracy: 84.38\n",
            "Epoch:  19 | Loss: 0.4112 | Train Accuracy: 85.09 | Evaluation Accuracy: 81.85\n",
            "\n",
            "\n",
            "\n",
            "THE 1th FOLD\n",
            "------------------------------------------------------------------\n",
            "Epoch:  0 | Loss: 0.8969 | Train Accuracy: 67.47 | Evaluation Accuracy: 74.88\n",
            "Epoch:  1 | Loss: 0.6710 | Train Accuracy: 75.84 | Evaluation Accuracy: 76.31\n",
            "Epoch:  2 | Loss: 0.6047 | Train Accuracy: 78.55 | Evaluation Accuracy: 79.56\n",
            "Epoch:  3 | Loss: 0.5444 | Train Accuracy: 80.88 | Evaluation Accuracy: 81.40\n",
            "Epoch:  4 | Loss: 0.5184 | Train Accuracy: 81.71 | Evaluation Accuracy: 82.71\n",
            "Epoch:  5 | Loss: 0.4979 | Train Accuracy: 82.56 | Evaluation Accuracy: 81.77\n",
            "Epoch:  6 | Loss: 0.4786 | Train Accuracy: 83.26 | Evaluation Accuracy: 83.35\n",
            "Epoch:  7 | Loss: 0.4818 | Train Accuracy: 83.09 | Evaluation Accuracy: 83.40\n",
            "Epoch:  8 | Loss: 0.4736 | Train Accuracy: 83.41 | Evaluation Accuracy: 84.84\n",
            "Epoch:  9 | Loss: 0.4497 | Train Accuracy: 84.10 | Evaluation Accuracy: 80.48\n",
            "Epoch:  10 | Loss: 0.4339 | Train Accuracy: 84.53 | Evaluation Accuracy: 84.28\n",
            "Epoch:  11 | Loss: 0.4256 | Train Accuracy: 84.87 | Evaluation Accuracy: 84.88\n",
            "Epoch:  12 | Loss: 0.4344 | Train Accuracy: 84.57 | Evaluation Accuracy: 84.43\n",
            "Epoch:  13 | Loss: 0.4185 | Train Accuracy: 85.13 | Evaluation Accuracy: 85.30\n",
            "Epoch:  14 | Loss: 0.4154 | Train Accuracy: 85.15 | Evaluation Accuracy: 85.03\n",
            "Epoch:  15 | Loss: 0.4269 | Train Accuracy: 84.81 | Evaluation Accuracy: 84.95\n",
            "Epoch:  16 | Loss: 0.4145 | Train Accuracy: 85.29 | Evaluation Accuracy: 84.64\n",
            "Epoch:  17 | Loss: 0.4700 | Train Accuracy: 83.41 | Evaluation Accuracy: 81.45\n",
            "Epoch:  18 | Loss: 0.4337 | Train Accuracy: 84.66 | Evaluation Accuracy: 86.07\n",
            "Epoch:  19 | Loss: 0.4055 | Train Accuracy: 85.50 | Evaluation Accuracy: 84.94\n",
            "\n",
            "\n",
            "\n",
            "THE 2th FOLD\n",
            "------------------------------------------------------------------\n",
            "Epoch:  0 | Loss: 0.9397 | Train Accuracy: 65.85 | Evaluation Accuracy: 73.40\n",
            "Epoch:  1 | Loss: 0.6732 | Train Accuracy: 75.33 | Evaluation Accuracy: 77.28\n",
            "Epoch:  2 | Loss: 0.6026 | Train Accuracy: 78.11 | Evaluation Accuracy: 78.76\n",
            "Epoch:  3 | Loss: 0.5607 | Train Accuracy: 79.93 | Evaluation Accuracy: 80.88\n",
            "Epoch:  4 | Loss: 0.5190 | Train Accuracy: 81.48 | Evaluation Accuracy: 82.63\n",
            "Epoch:  5 | Loss: 0.4951 | Train Accuracy: 82.46 | Evaluation Accuracy: 83.51\n",
            "Epoch:  6 | Loss: 0.5097 | Train Accuracy: 81.93 | Evaluation Accuracy: 83.27\n",
            "Epoch:  7 | Loss: 0.4815 | Train Accuracy: 83.01 | Evaluation Accuracy: 83.82\n",
            "Epoch:  8 | Loss: 0.4707 | Train Accuracy: 83.26 | Evaluation Accuracy: 83.92\n",
            "Epoch:  9 | Loss: 0.4752 | Train Accuracy: 83.03 | Evaluation Accuracy: 84.85\n",
            "Epoch:  10 | Loss: 0.4493 | Train Accuracy: 83.88 | Evaluation Accuracy: 84.46\n",
            "Epoch:  11 | Loss: 0.5095 | Train Accuracy: 81.89 | Evaluation Accuracy: 84.48\n",
            "Epoch:  12 | Loss: 0.4507 | Train Accuracy: 83.79 | Evaluation Accuracy: 84.58\n",
            "Epoch:  13 | Loss: 0.4511 | Train Accuracy: 83.85 | Evaluation Accuracy: 81.61\n",
            "Epoch:  14 | Loss: 0.5057 | Train Accuracy: 82.03 | Evaluation Accuracy: 81.21\n",
            "Epoch:  15 | Loss: 0.4827 | Train Accuracy: 82.57 | Evaluation Accuracy: 84.10\n",
            "Epoch:  16 | Loss: 0.4490 | Train Accuracy: 83.92 | Evaluation Accuracy: 84.68\n",
            "Epoch:  17 | Loss: 0.4356 | Train Accuracy: 84.52 | Evaluation Accuracy: 84.61\n",
            "Epoch:  18 | Loss: 0.4785 | Train Accuracy: 82.95 | Evaluation Accuracy: 84.70\n",
            "Epoch:  19 | Loss: 0.4262 | Train Accuracy: 84.67 | Evaluation Accuracy: 84.06\n",
            "\n",
            "\n",
            "\n",
            "THE 3th FOLD\n",
            "------------------------------------------------------------------\n",
            "Epoch:  0 | Loss: 1.0059 | Train Accuracy: 63.18 | Evaluation Accuracy: 70.81\n",
            "Epoch:  1 | Loss: 0.7071 | Train Accuracy: 74.32 | Evaluation Accuracy: 78.49\n",
            "Epoch:  2 | Loss: 0.6040 | Train Accuracy: 78.16 | Evaluation Accuracy: 79.24\n",
            "Epoch:  3 | Loss: 0.5796 | Train Accuracy: 79.19 | Evaluation Accuracy: 79.91\n",
            "Epoch:  4 | Loss: 0.5515 | Train Accuracy: 80.30 | Evaluation Accuracy: 82.19\n",
            "Epoch:  5 | Loss: 0.5306 | Train Accuracy: 81.04 | Evaluation Accuracy: 79.98\n",
            "Epoch:  6 | Loss: 0.5202 | Train Accuracy: 81.73 | Evaluation Accuracy: 82.41\n",
            "Epoch:  7 | Loss: 0.5102 | Train Accuracy: 81.84 | Evaluation Accuracy: 83.09\n",
            "Epoch:  8 | Loss: 0.4989 | Train Accuracy: 82.32 | Evaluation Accuracy: 83.63\n",
            "Epoch:  9 | Loss: 0.4700 | Train Accuracy: 83.20 | Evaluation Accuracy: 81.79\n",
            "Epoch:  10 | Loss: 0.4548 | Train Accuracy: 83.71 | Evaluation Accuracy: 84.58\n",
            "Epoch:  11 | Loss: 0.4617 | Train Accuracy: 83.58 | Evaluation Accuracy: 78.47\n",
            "Epoch:  12 | Loss: 0.4675 | Train Accuracy: 83.37 | Evaluation Accuracy: 80.88\n",
            "Epoch:  13 | Loss: 0.4926 | Train Accuracy: 82.77 | Evaluation Accuracy: 84.28\n",
            "Epoch:  14 | Loss: 0.4337 | Train Accuracy: 84.55 | Evaluation Accuracy: 85.48\n",
            "Epoch:  15 | Loss: 0.4384 | Train Accuracy: 84.32 | Evaluation Accuracy: 84.72\n",
            "Epoch:  16 | Loss: 0.4594 | Train Accuracy: 83.65 | Evaluation Accuracy: 83.94\n",
            "Epoch:  17 | Loss: 0.4914 | Train Accuracy: 82.65 | Evaluation Accuracy: 83.59\n",
            "Epoch:  18 | Loss: 0.4454 | Train Accuracy: 84.26 | Evaluation Accuracy: 84.72\n",
            "Epoch:  19 | Loss: 0.4427 | Train Accuracy: 84.24 | Evaluation Accuracy: 82.73\n",
            "\n",
            "\n",
            "\n",
            "THE 4th FOLD\n",
            "------------------------------------------------------------------\n",
            "Epoch:  0 | Loss: 0.9628 | Train Accuracy: 64.69 | Evaluation Accuracy: 73.76\n",
            "Epoch:  1 | Loss: 0.6557 | Train Accuracy: 76.62 | Evaluation Accuracy: 77.33\n",
            "Epoch:  2 | Loss: 0.5665 | Train Accuracy: 80.05 | Evaluation Accuracy: 80.98\n",
            "Epoch:  3 | Loss: 0.5514 | Train Accuracy: 80.77 | Evaluation Accuracy: 80.34\n",
            "Epoch:  4 | Loss: 0.5213 | Train Accuracy: 81.91 | Evaluation Accuracy: 83.06\n",
            "Epoch:  5 | Loss: 0.5052 | Train Accuracy: 82.40 | Evaluation Accuracy: 82.65\n",
            "Epoch:  6 | Loss: 0.4772 | Train Accuracy: 83.16 | Evaluation Accuracy: 82.26\n",
            "Epoch:  7 | Loss: 0.4808 | Train Accuracy: 83.10 | Evaluation Accuracy: 81.83\n",
            "Epoch:  8 | Loss: 0.4681 | Train Accuracy: 83.38 | Evaluation Accuracy: 83.29\n",
            "Epoch:  9 | Loss: 0.4798 | Train Accuracy: 83.09 | Evaluation Accuracy: 84.30\n",
            "Epoch:  10 | Loss: 0.4590 | Train Accuracy: 83.78 | Evaluation Accuracy: 81.52\n",
            "Epoch:  11 | Loss: 0.4553 | Train Accuracy: 83.76 | Evaluation Accuracy: 83.63\n",
            "Epoch:  12 | Loss: 0.4335 | Train Accuracy: 84.65 | Evaluation Accuracy: 84.57\n",
            "Epoch:  13 | Loss: 0.4618 | Train Accuracy: 83.60 | Evaluation Accuracy: 83.11\n",
            "Epoch:  14 | Loss: 0.4405 | Train Accuracy: 84.29 | Evaluation Accuracy: 83.89\n",
            "Epoch:  15 | Loss: 0.4491 | Train Accuracy: 84.16 | Evaluation Accuracy: 80.72\n",
            "Epoch:  16 | Loss: 0.5228 | Train Accuracy: 81.92 | Evaluation Accuracy: 83.24\n",
            "Epoch:  17 | Loss: 0.4563 | Train Accuracy: 83.82 | Evaluation Accuracy: 82.64\n",
            "Epoch:  18 | Loss: 0.4551 | Train Accuracy: 83.66 | Evaluation Accuracy: 83.29\n",
            "Epoch:  19 | Loss: 0.4658 | Train Accuracy: 83.48 | Evaluation Accuracy: 82.92\n",
            "\n",
            "\n",
            "\n"
          ],
          "name": "stdout"
        }
      ]
    },
    {
      "cell_type": "code",
      "metadata": {
        "id": "qFNfkJi5iw2O"
      },
      "source": [
        "import pickle\n",
        "\n",
        "# Save result\n",
        "with open('train_acc_list.pkl', 'wb') as f:\n",
        "    pickle.dump(train_acc_list, f)\n",
        "\n",
        "with open('eval_acc_list.pkl', 'wb') as f:\n",
        "    pickle.dump(train_acc_list, f)"
      ],
      "execution_count": null,
      "outputs": []
    },
    {
      "cell_type": "code",
      "metadata": {
        "id": "QUHu_2nHppnM"
      },
      "source": [
        "torch.cuda.get_device_name(0)"
      ],
      "execution_count": null,
      "outputs": []
    },
    {
      "cell_type": "code",
      "metadata": {
        "colab": {
          "base_uri": "https://localhost:8080/",
          "height": 296
        },
        "id": "NJD3IMmCMOxF",
        "outputId": "a17aad40-9a72-418d-b5b5-4f521157cbb1"
      },
      "source": [
        "eval_acc_list = np.array(eval_acc_list)\n",
        "train_acc_list = np.array(train_acc_list)\n",
        "\n",
        "\n",
        "eval_mean = np.mean(eval_acc_list, axis = 0)\n",
        "eval_std = np.std(eval_acc_list, axis = 0)\n",
        "train_mean = np.mean(train_acc_list, axis = 0)\n",
        "train_std = np.std(train_acc_list, axis = 0)\n",
        "\n",
        "k_list = range(1,21)\n",
        "print(k_list)\n",
        "\n",
        "plt.plot(k_list, train_mean, label='Train', linewidth = 2)\n",
        "plt.errorbar(k_list, eval_mean, eval_std, label='Validation', linewidth = 2)\n",
        "plt.xticks(range(0,22, 2))\n",
        "plt.legend()\n",
        "plt.xlabel('Number of Epoch')\n",
        "plt.ylabel('Accuracy')\n",
        "\n",
        "plt.savefig('Epoch_Accuracy_Chart.jpg', format = 'JPEG')"
      ],
      "execution_count": null,
      "outputs": [
        {
          "output_type": "stream",
          "text": [
            "range(1, 21)\n"
          ],
          "name": "stdout"
        },
        {
          "output_type": "display_data",
          "data": {
            "image/png": "[encoded data removed]",
            "text/plain": [
              "<Figure size 432x288 with 1 Axes>"
            ]
          },
          "metadata": {
            "tags": [],
            "needs_background": "light"
          }
        }
      ]
    },
    {
      "cell_type": "code",
      "metadata": {
        "id": "uTdQy7rY6N8z"
      },
      "source": [
        ""
      ],
      "execution_count": null,
      "outputs": []
    }
  ]
}